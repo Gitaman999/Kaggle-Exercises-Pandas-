{
 "cells": [
  {
   "cell_type": "markdown",
   "id": "55d81d98",
   "metadata": {
    "papermill": {
     "duration": 0.00518,
     "end_time": "2025-09-22T12:09:14.641138",
     "exception": false,
     "start_time": "2025-09-22T12:09:14.635958",
     "status": "completed"
    },
    "tags": []
   },
   "source": [
    "**This notebook is an exercise in the [Pandas](https://www.kaggle.com/learn/pandas) course.  You can reference the tutorial at [this link](https://www.kaggle.com/residentmario/grouping-and-sorting).**\n",
    "\n",
    "---\n"
   ]
  },
  {
   "cell_type": "markdown",
   "id": "cb082874",
   "metadata": {
    "papermill": {
     "duration": 0.004235,
     "end_time": "2025-09-22T12:09:14.650104",
     "exception": false,
     "start_time": "2025-09-22T12:09:14.645869",
     "status": "completed"
    },
    "tags": []
   },
   "source": [
    "# Introduction\n",
    "\n",
    "In these exercises we'll apply groupwise analysis to our dataset.\n",
    "\n",
    "Run the code cell below to load the data before running the exercises."
   ]
  },
  {
   "cell_type": "code",
   "execution_count": 1,
   "id": "7865c1ff",
   "metadata": {
    "execution": {
     "iopub.execute_input": "2025-09-22T12:09:14.662703Z",
     "iopub.status.busy": "2025-09-22T12:09:14.662342Z",
     "iopub.status.idle": "2025-09-22T12:09:19.506282Z",
     "shell.execute_reply": "2025-09-22T12:09:19.505344Z"
    },
    "papermill": {
     "duration": 4.85371,
     "end_time": "2025-09-22T12:09:19.508161",
     "exception": false,
     "start_time": "2025-09-22T12:09:14.654451",
     "status": "completed"
    },
    "tags": []
   },
   "outputs": [
    {
     "name": "stdout",
     "output_type": "stream",
     "text": [
      "Setup complete.\n"
     ]
    },
    {
     "name": "stderr",
     "output_type": "stream",
     "text": [
      "/usr/local/lib/python3.11/dist-packages/learntools/pandas/grouping_and_sorting.py:29: FutureWarning: The provided callable <built-in function min> is currently using SeriesGroupBy.min. In a future version of pandas, the provided callable will be used directly. To keep current behavior pass the string \"min\" instead.\n",
      "  _expected = reviews.groupby('variety').price.agg([min, max])\n",
      "/usr/local/lib/python3.11/dist-packages/learntools/pandas/grouping_and_sorting.py:29: FutureWarning: The provided callable <built-in function max> is currently using SeriesGroupBy.max. In a future version of pandas, the provided callable will be used directly. To keep current behavior pass the string \"max\" instead.\n",
      "  _expected = reviews.groupby('variety').price.agg([min, max])\n",
      "/usr/local/lib/python3.11/dist-packages/learntools/pandas/grouping_and_sorting.py:35: FutureWarning: The provided callable <built-in function min> is currently using SeriesGroupBy.min. In a future version of pandas, the provided callable will be used directly. To keep current behavior pass the string \"min\" instead.\n",
      "  _expected = reviews.groupby('variety').price.agg([min, max]).sort_values(by=['min', 'max'], ascending=False)\n",
      "/usr/local/lib/python3.11/dist-packages/learntools/pandas/grouping_and_sorting.py:35: FutureWarning: The provided callable <built-in function max> is currently using SeriesGroupBy.max. In a future version of pandas, the provided callable will be used directly. To keep current behavior pass the string \"max\" instead.\n",
      "  _expected = reviews.groupby('variety').price.agg([min, max]).sort_values(by=['min', 'max'], ascending=False)\n"
     ]
    }
   ],
   "source": [
    "import pandas as pd\n",
    "\n",
    "reviews = pd.read_csv(\"../input/wine-reviews/winemag-data-130k-v2.csv\", index_col=0)\n",
    "#pd.set_option(\"display.max_rows\", 5)\n",
    "\n",
    "from learntools.core import binder; binder.bind(globals())\n",
    "from learntools.pandas.grouping_and_sorting import *\n",
    "print(\"Setup complete.\")"
   ]
  },
  {
   "cell_type": "markdown",
   "id": "ae827880",
   "metadata": {
    "papermill": {
     "duration": 0.004364,
     "end_time": "2025-09-22T12:09:19.517534",
     "exception": false,
     "start_time": "2025-09-22T12:09:19.513170",
     "status": "completed"
    },
    "tags": []
   },
   "source": [
    "# Exercises"
   ]
  },
  {
   "cell_type": "markdown",
   "id": "e2fd3cad",
   "metadata": {
    "papermill": {
     "duration": 0.004169,
     "end_time": "2025-09-22T12:09:19.526118",
     "exception": false,
     "start_time": "2025-09-22T12:09:19.521949",
     "status": "completed"
    },
    "tags": []
   },
   "source": [
    "## 1.\n",
    "Who are the most common wine reviewers in the dataset? Create a `Series` whose index is the `taster_twitter_handle` category from the dataset, and whose values count how many reviews each person wrote."
   ]
  },
  {
   "cell_type": "code",
   "execution_count": 2,
   "id": "99d52d97",
   "metadata": {
    "execution": {
     "iopub.execute_input": "2025-09-22T12:09:19.537559Z",
     "iopub.status.busy": "2025-09-22T12:09:19.536887Z",
     "iopub.status.idle": "2025-09-22T12:09:19.562498Z",
     "shell.execute_reply": "2025-09-22T12:09:19.561501Z"
    },
    "papermill": {
     "duration": 0.03375,
     "end_time": "2025-09-22T12:09:19.564181",
     "exception": false,
     "start_time": "2025-09-22T12:09:19.530431",
     "status": "completed"
    },
    "tags": []
   },
   "outputs": [
    {
     "data": {
      "application/javascript": [
       "parent.postMessage({\"jupyterEvent\": \"custom.exercise_interaction\", \"data\": {\"outcomeType\": 1, \"valueTowardsCompletion\": 0.16666666666666666, \"interactionType\": 1, \"questionType\": 1, \"questionId\": \"1_ReviewsWritten\", \"learnToolsVersion\": \"0.3.5\", \"failureMessage\": \"\", \"exceptionClass\": \"\", \"trace\": \"\"}}, \"*\")"
      ],
      "text/plain": [
       "<IPython.core.display.Javascript object>"
      ]
     },
     "metadata": {},
     "output_type": "display_data"
    },
    {
     "data": {
      "text/markdown": [
       "<span style=\"color:#33cc33\">Correct:</span> \n",
       "\n",
       "\n",
       "```python\n",
       "reviews_written = reviews.groupby('taster_twitter_handle').size()\n",
       "```\n",
       "or\n",
       "```python\n",
       "reviews_written = reviews.groupby('taster_twitter_handle').taster_twitter_handle.count()\n",
       "```\n"
      ],
      "text/plain": [
       "Correct: \n",
       "\n",
       "\n",
       "```python\n",
       "reviews_written = reviews.groupby('taster_twitter_handle').size()\n",
       "```\n",
       "or\n",
       "```python\n",
       "reviews_written = reviews.groupby('taster_twitter_handle').taster_twitter_handle.count()\n",
       "```"
      ]
     },
     "metadata": {},
     "output_type": "display_data"
    }
   ],
   "source": [
    "# Your code here\n",
    "reviews_written = reviews.groupby('taster_twitter_handle').taster_twitter_handle.count()\n",
    "\n",
    "# Check your answer\n",
    "q1.check()"
   ]
  },
  {
   "cell_type": "code",
   "execution_count": 3,
   "id": "ded1c3c2",
   "metadata": {
    "execution": {
     "iopub.execute_input": "2025-09-22T12:09:19.575954Z",
     "iopub.status.busy": "2025-09-22T12:09:19.575606Z",
     "iopub.status.idle": "2025-09-22T12:09:19.579735Z",
     "shell.execute_reply": "2025-09-22T12:09:19.578889Z"
    },
    "papermill": {
     "duration": 0.012075,
     "end_time": "2025-09-22T12:09:19.581216",
     "exception": false,
     "start_time": "2025-09-22T12:09:19.569141",
     "status": "completed"
    },
    "tags": []
   },
   "outputs": [],
   "source": [
    "#q1.hint()\n",
    "#q1.solution()"
   ]
  },
  {
   "cell_type": "markdown",
   "id": "ca429ecd",
   "metadata": {
    "papermill": {
     "duration": 0.004546,
     "end_time": "2025-09-22T12:09:19.590705",
     "exception": false,
     "start_time": "2025-09-22T12:09:19.586159",
     "status": "completed"
    },
    "tags": []
   },
   "source": [
    "## 2.\n",
    "What is the best wine I can buy for a given amount of money? Create a `Series` whose index is wine prices and whose values is the maximum number of points a wine costing that much was given in a review. Sort the values by price, ascending (so that `4.0` dollars is at the top and `3300.0` dollars is at the bottom)."
   ]
  },
  {
   "cell_type": "code",
   "execution_count": 4,
   "id": "b980971a",
   "metadata": {
    "execution": {
     "iopub.execute_input": "2025-09-22T12:09:19.601612Z",
     "iopub.status.busy": "2025-09-22T12:09:19.601300Z",
     "iopub.status.idle": "2025-09-22T12:09:19.613241Z",
     "shell.execute_reply": "2025-09-22T12:09:19.612371Z"
    },
    "papermill": {
     "duration": 0.018965,
     "end_time": "2025-09-22T12:09:19.614685",
     "exception": false,
     "start_time": "2025-09-22T12:09:19.595720",
     "status": "completed"
    },
    "tags": []
   },
   "outputs": [
    {
     "data": {
      "application/javascript": [
       "parent.postMessage({\"jupyterEvent\": \"custom.exercise_interaction\", \"data\": {\"outcomeType\": 1, \"valueTowardsCompletion\": 0.16666666666666666, \"interactionType\": 1, \"questionType\": 1, \"questionId\": \"2_BestRatingPerPrice\", \"learnToolsVersion\": \"0.3.5\", \"failureMessage\": \"\", \"exceptionClass\": \"\", \"trace\": \"\"}}, \"*\")"
      ],
      "text/plain": [
       "<IPython.core.display.Javascript object>"
      ]
     },
     "metadata": {},
     "output_type": "display_data"
    },
    {
     "data": {
      "text/markdown": [
       "<span style=\"color:#33cc33\">Correct</span>"
      ],
      "text/plain": [
       "Correct"
      ]
     },
     "metadata": {},
     "output_type": "display_data"
    }
   ],
   "source": [
    "best_rating_per_price = reviews.groupby('price').points.max()\n",
    "best_rating_per_price.sort_index()\n",
    "\n",
    "# Check your answer\n",
    "q2.check()"
   ]
  },
  {
   "cell_type": "code",
   "execution_count": 5,
   "id": "7f46a500",
   "metadata": {
    "execution": {
     "iopub.execute_input": "2025-09-22T12:09:19.626037Z",
     "iopub.status.busy": "2025-09-22T12:09:19.625490Z",
     "iopub.status.idle": "2025-09-22T12:09:19.632132Z",
     "shell.execute_reply": "2025-09-22T12:09:19.631425Z"
    },
    "papermill": {
     "duration": 0.013692,
     "end_time": "2025-09-22T12:09:19.633391",
     "exception": false,
     "start_time": "2025-09-22T12:09:19.619699",
     "status": "completed"
    },
    "tags": []
   },
   "outputs": [
    {
     "data": {
      "application/javascript": [
       "parent.postMessage({\"jupyterEvent\": \"custom.exercise_interaction\", \"data\": {\"interactionType\": 2, \"questionType\": 1, \"questionId\": \"2_BestRatingPerPrice\", \"learnToolsVersion\": \"0.3.5\", \"valueTowardsCompletion\": 0.0, \"failureMessage\": \"\", \"exceptionClass\": \"\", \"trace\": \"\", \"outcomeType\": 4}}, \"*\")"
      ],
      "text/plain": [
       "<IPython.core.display.Javascript object>"
      ]
     },
     "metadata": {},
     "output_type": "display_data"
    },
    {
     "data": {
      "text/markdown": [
       "<span style=\"color:#3366cc\">Hint:</span> Use `max()` and `sort_index()`.  The relevant columns in the DataFrame are `price` and `points`."
      ],
      "text/plain": [
       "Hint: Use `max()` and `sort_index()`.  The relevant columns in the DataFrame are `price` and `points`."
      ]
     },
     "metadata": {},
     "output_type": "display_data"
    }
   ],
   "source": [
    "q2.hint()\n",
    "#q2.solution()"
   ]
  },
  {
   "cell_type": "markdown",
   "id": "89e72540",
   "metadata": {
    "papermill": {
     "duration": 0.005031,
     "end_time": "2025-09-22T12:09:19.643571",
     "exception": false,
     "start_time": "2025-09-22T12:09:19.638540",
     "status": "completed"
    },
    "tags": []
   },
   "source": [
    "## 3.\n",
    "What are the minimum and maximum prices for each `variety` of wine? Create a `DataFrame` whose index is the `variety` category from the dataset and whose values are the `min` and `max` values thereof."
   ]
  },
  {
   "cell_type": "code",
   "execution_count": 6,
   "id": "04cfb013",
   "metadata": {
    "execution": {
     "iopub.execute_input": "2025-09-22T12:09:19.654700Z",
     "iopub.status.busy": "2025-09-22T12:09:19.654405Z",
     "iopub.status.idle": "2025-09-22T12:09:19.676715Z",
     "shell.execute_reply": "2025-09-22T12:09:19.675761Z"
    },
    "papermill": {
     "duration": 0.029516,
     "end_time": "2025-09-22T12:09:19.678148",
     "exception": false,
     "start_time": "2025-09-22T12:09:19.648632",
     "status": "completed"
    },
    "tags": []
   },
   "outputs": [
    {
     "data": {
      "application/javascript": [
       "parent.postMessage({\"jupyterEvent\": \"custom.exercise_interaction\", \"data\": {\"outcomeType\": 1, \"valueTowardsCompletion\": 0.16666666666666666, \"interactionType\": 1, \"questionType\": 1, \"questionId\": \"3_PriceExtremes\", \"learnToolsVersion\": \"0.3.5\", \"failureMessage\": \"\", \"exceptionClass\": \"\", \"trace\": \"\"}}, \"*\")"
      ],
      "text/plain": [
       "<IPython.core.display.Javascript object>"
      ]
     },
     "metadata": {},
     "output_type": "display_data"
    },
    {
     "data": {
      "text/markdown": [
       "<span style=\"color:#33cc33\">Correct</span>"
      ],
      "text/plain": [
       "Correct"
      ]
     },
     "metadata": {},
     "output_type": "display_data"
    }
   ],
   "source": [
    "price_extremes = reviews.groupby('variety').price.agg(['min','max'])\n",
    "\n",
    "# Check your answer\n",
    "q3.check()"
   ]
  },
  {
   "cell_type": "code",
   "execution_count": 7,
   "id": "97d09765",
   "metadata": {
    "execution": {
     "iopub.execute_input": "2025-09-22T12:09:19.689961Z",
     "iopub.status.busy": "2025-09-22T12:09:19.689351Z",
     "iopub.status.idle": "2025-09-22T12:09:19.709132Z",
     "shell.execute_reply": "2025-09-22T12:09:19.708235Z"
    },
    "papermill": {
     "duration": 0.027233,
     "end_time": "2025-09-22T12:09:19.710652",
     "exception": false,
     "start_time": "2025-09-22T12:09:19.683419",
     "status": "completed"
    },
    "tags": []
   },
   "outputs": [
    {
     "data": {
      "text/html": [
       "<div>\n",
       "<style scoped>\n",
       "    .dataframe tbody tr th:only-of-type {\n",
       "        vertical-align: middle;\n",
       "    }\n",
       "\n",
       "    .dataframe tbody tr th {\n",
       "        vertical-align: top;\n",
       "    }\n",
       "\n",
       "    .dataframe thead th {\n",
       "        text-align: right;\n",
       "    }\n",
       "</style>\n",
       "<table border=\"1\" class=\"dataframe\">\n",
       "  <thead>\n",
       "    <tr style=\"text-align: right;\">\n",
       "      <th></th>\n",
       "      <th>min</th>\n",
       "      <th>max</th>\n",
       "    </tr>\n",
       "    <tr>\n",
       "      <th>variety</th>\n",
       "      <th></th>\n",
       "      <th></th>\n",
       "    </tr>\n",
       "  </thead>\n",
       "  <tbody>\n",
       "    <tr>\n",
       "      <th>Abouriou</th>\n",
       "      <td>15.0</td>\n",
       "      <td>75.0</td>\n",
       "    </tr>\n",
       "    <tr>\n",
       "      <th>Agiorgitiko</th>\n",
       "      <td>10.0</td>\n",
       "      <td>66.0</td>\n",
       "    </tr>\n",
       "    <tr>\n",
       "      <th>Aglianico</th>\n",
       "      <td>6.0</td>\n",
       "      <td>180.0</td>\n",
       "    </tr>\n",
       "    <tr>\n",
       "      <th>Aidani</th>\n",
       "      <td>27.0</td>\n",
       "      <td>27.0</td>\n",
       "    </tr>\n",
       "    <tr>\n",
       "      <th>Airen</th>\n",
       "      <td>8.0</td>\n",
       "      <td>10.0</td>\n",
       "    </tr>\n",
       "  </tbody>\n",
       "</table>\n",
       "</div>"
      ],
      "text/plain": [
       "              min    max\n",
       "variety                 \n",
       "Abouriou     15.0   75.0\n",
       "Agiorgitiko  10.0   66.0\n",
       "Aglianico     6.0  180.0\n",
       "Aidani       27.0   27.0\n",
       "Airen         8.0   10.0"
      ]
     },
     "execution_count": 7,
     "metadata": {},
     "output_type": "execute_result"
    }
   ],
   "source": [
    "price_extremes.head()"
   ]
  },
  {
   "cell_type": "code",
   "execution_count": 8,
   "id": "97d1120b",
   "metadata": {
    "execution": {
     "iopub.execute_input": "2025-09-22T12:09:19.723473Z",
     "iopub.status.busy": "2025-09-22T12:09:19.722465Z",
     "iopub.status.idle": "2025-09-22T12:09:19.729628Z",
     "shell.execute_reply": "2025-09-22T12:09:19.728842Z"
    },
    "papermill": {
     "duration": 0.014959,
     "end_time": "2025-09-22T12:09:19.731159",
     "exception": false,
     "start_time": "2025-09-22T12:09:19.716200",
     "status": "completed"
    },
    "tags": []
   },
   "outputs": [
    {
     "data": {
      "application/javascript": [
       "parent.postMessage({\"jupyterEvent\": \"custom.exercise_interaction\", \"data\": {\"interactionType\": 2, \"questionType\": 1, \"questionId\": \"3_PriceExtremes\", \"learnToolsVersion\": \"0.3.5\", \"valueTowardsCompletion\": 0.0, \"failureMessage\": \"\", \"exceptionClass\": \"\", \"trace\": \"\", \"outcomeType\": 4}}, \"*\")"
      ],
      "text/plain": [
       "<IPython.core.display.Javascript object>"
      ]
     },
     "metadata": {},
     "output_type": "display_data"
    },
    {
     "data": {
      "text/markdown": [
       "<span style=\"color:#3366cc\">Hint:</span> Use `agg()`."
      ],
      "text/plain": [
       "Hint: Use `agg()`."
      ]
     },
     "metadata": {},
     "output_type": "display_data"
    }
   ],
   "source": [
    "q3.hint()\n",
    "#q3.solution()"
   ]
  },
  {
   "cell_type": "markdown",
   "id": "0498b093",
   "metadata": {
    "papermill": {
     "duration": 0.005275,
     "end_time": "2025-09-22T12:09:19.742144",
     "exception": false,
     "start_time": "2025-09-22T12:09:19.736869",
     "status": "completed"
    },
    "tags": []
   },
   "source": [
    "## 4.\n",
    "What are the most expensive wine varieties? Create a variable `sorted_varieties` containing a copy of the dataframe from the previous question where varieties are sorted in descending order based on minimum price, then on maximum price (to break ties)."
   ]
  },
  {
   "cell_type": "code",
   "execution_count": 9,
   "id": "6d28e7e0",
   "metadata": {
    "execution": {
     "iopub.execute_input": "2025-09-22T12:09:19.754982Z",
     "iopub.status.busy": "2025-09-22T12:09:19.754141Z",
     "iopub.status.idle": "2025-09-22T12:09:19.764298Z",
     "shell.execute_reply": "2025-09-22T12:09:19.763338Z"
    },
    "papermill": {
     "duration": 0.018188,
     "end_time": "2025-09-22T12:09:19.765928",
     "exception": false,
     "start_time": "2025-09-22T12:09:19.747740",
     "status": "completed"
    },
    "tags": []
   },
   "outputs": [
    {
     "data": {
      "application/javascript": [
       "parent.postMessage({\"jupyterEvent\": \"custom.exercise_interaction\", \"data\": {\"outcomeType\": 1, \"valueTowardsCompletion\": 0.16666666666666666, \"interactionType\": 1, \"questionType\": 1, \"questionId\": \"4_SortedVarieties\", \"learnToolsVersion\": \"0.3.5\", \"failureMessage\": \"\", \"exceptionClass\": \"\", \"trace\": \"\"}}, \"*\")"
      ],
      "text/plain": [
       "<IPython.core.display.Javascript object>"
      ]
     },
     "metadata": {},
     "output_type": "display_data"
    },
    {
     "data": {
      "text/markdown": [
       "<span style=\"color:#33cc33\">Correct</span>"
      ],
      "text/plain": [
       "Correct"
      ]
     },
     "metadata": {},
     "output_type": "display_data"
    }
   ],
   "source": [
    "sorted_varieties = price_extremes.sort_values(by=['min','max'], ascending=False)\n",
    "\n",
    "# Check your answer\n",
    "q4.check()"
   ]
  },
  {
   "cell_type": "code",
   "execution_count": 10,
   "id": "eb35c43c",
   "metadata": {
    "execution": {
     "iopub.execute_input": "2025-09-22T12:09:19.779528Z",
     "iopub.status.busy": "2025-09-22T12:09:19.778632Z",
     "iopub.status.idle": "2025-09-22T12:09:19.788354Z",
     "shell.execute_reply": "2025-09-22T12:09:19.787606Z"
    },
    "papermill": {
     "duration": 0.01797,
     "end_time": "2025-09-22T12:09:19.789840",
     "exception": false,
     "start_time": "2025-09-22T12:09:19.771870",
     "status": "completed"
    },
    "tags": []
   },
   "outputs": [
    {
     "data": {
      "text/html": [
       "<div>\n",
       "<style scoped>\n",
       "    .dataframe tbody tr th:only-of-type {\n",
       "        vertical-align: middle;\n",
       "    }\n",
       "\n",
       "    .dataframe tbody tr th {\n",
       "        vertical-align: top;\n",
       "    }\n",
       "\n",
       "    .dataframe thead th {\n",
       "        text-align: right;\n",
       "    }\n",
       "</style>\n",
       "<table border=\"1\" class=\"dataframe\">\n",
       "  <thead>\n",
       "    <tr style=\"text-align: right;\">\n",
       "      <th></th>\n",
       "      <th>min</th>\n",
       "      <th>max</th>\n",
       "    </tr>\n",
       "    <tr>\n",
       "      <th>variety</th>\n",
       "      <th></th>\n",
       "      <th></th>\n",
       "    </tr>\n",
       "  </thead>\n",
       "  <tbody>\n",
       "    <tr>\n",
       "      <th>Ramisco</th>\n",
       "      <td>495.0</td>\n",
       "      <td>495.0</td>\n",
       "    </tr>\n",
       "    <tr>\n",
       "      <th>Terrantez</th>\n",
       "      <td>236.0</td>\n",
       "      <td>236.0</td>\n",
       "    </tr>\n",
       "    <tr>\n",
       "      <th>Francisa</th>\n",
       "      <td>160.0</td>\n",
       "      <td>160.0</td>\n",
       "    </tr>\n",
       "    <tr>\n",
       "      <th>Rosenmuskateller</th>\n",
       "      <td>150.0</td>\n",
       "      <td>150.0</td>\n",
       "    </tr>\n",
       "    <tr>\n",
       "      <th>Tinta Negra Mole</th>\n",
       "      <td>112.0</td>\n",
       "      <td>112.0</td>\n",
       "    </tr>\n",
       "  </tbody>\n",
       "</table>\n",
       "</div>"
      ],
      "text/plain": [
       "                    min    max\n",
       "variety                       \n",
       "Ramisco           495.0  495.0\n",
       "Terrantez         236.0  236.0\n",
       "Francisa          160.0  160.0\n",
       "Rosenmuskateller  150.0  150.0\n",
       "Tinta Negra Mole  112.0  112.0"
      ]
     },
     "execution_count": 10,
     "metadata": {},
     "output_type": "execute_result"
    }
   ],
   "source": [
    "sorted_varieties.head()"
   ]
  },
  {
   "cell_type": "code",
   "execution_count": 11,
   "id": "8e6069c5",
   "metadata": {
    "execution": {
     "iopub.execute_input": "2025-09-22T12:09:19.803385Z",
     "iopub.status.busy": "2025-09-22T12:09:19.803069Z",
     "iopub.status.idle": "2025-09-22T12:09:19.806997Z",
     "shell.execute_reply": "2025-09-22T12:09:19.806215Z"
    },
    "papermill": {
     "duration": 0.012233,
     "end_time": "2025-09-22T12:09:19.808437",
     "exception": false,
     "start_time": "2025-09-22T12:09:19.796204",
     "status": "completed"
    },
    "tags": []
   },
   "outputs": [],
   "source": [
    "#q4.hint()\n",
    "#q4.solution()"
   ]
  },
  {
   "cell_type": "markdown",
   "id": "98f18a0d",
   "metadata": {
    "papermill": {
     "duration": 0.00566,
     "end_time": "2025-09-22T12:09:19.820331",
     "exception": false,
     "start_time": "2025-09-22T12:09:19.814671",
     "status": "completed"
    },
    "tags": []
   },
   "source": [
    "## 5.\n",
    "Create a `Series` whose index is reviewers and whose values is the average review score given out by that reviewer. Hint: you will need the `taster_name` and `points` columns."
   ]
  },
  {
   "cell_type": "code",
   "execution_count": 12,
   "id": "b4cf5ec4",
   "metadata": {
    "execution": {
     "iopub.execute_input": "2025-09-22T12:09:19.833726Z",
     "iopub.status.busy": "2025-09-22T12:09:19.833398Z",
     "iopub.status.idle": "2025-09-22T12:09:19.853383Z",
     "shell.execute_reply": "2025-09-22T12:09:19.852588Z"
    },
    "papermill": {
     "duration": 0.028623,
     "end_time": "2025-09-22T12:09:19.854864",
     "exception": false,
     "start_time": "2025-09-22T12:09:19.826241",
     "status": "completed"
    },
    "tags": []
   },
   "outputs": [
    {
     "data": {
      "application/javascript": [
       "parent.postMessage({\"jupyterEvent\": \"custom.exercise_interaction\", \"data\": {\"outcomeType\": 1, \"valueTowardsCompletion\": 0.16666666666666666, \"interactionType\": 1, \"questionType\": 1, \"questionId\": \"5_ReviewerMeanRatings\", \"learnToolsVersion\": \"0.3.5\", \"failureMessage\": \"\", \"exceptionClass\": \"\", \"trace\": \"\"}}, \"*\")"
      ],
      "text/plain": [
       "<IPython.core.display.Javascript object>"
      ]
     },
     "metadata": {},
     "output_type": "display_data"
    },
    {
     "data": {
      "text/markdown": [
       "<span style=\"color:#33cc33\">Correct</span>"
      ],
      "text/plain": [
       "Correct"
      ]
     },
     "metadata": {},
     "output_type": "display_data"
    }
   ],
   "source": [
    "reviewer_mean_ratings = reviews.groupby('taster_name').points.mean()\n",
    "\n",
    "# Check your answer\n",
    "q5.check()"
   ]
  },
  {
   "cell_type": "code",
   "execution_count": 13,
   "id": "c1014f84",
   "metadata": {
    "execution": {
     "iopub.execute_input": "2025-09-22T12:09:19.869071Z",
     "iopub.status.busy": "2025-09-22T12:09:19.868127Z",
     "iopub.status.idle": "2025-09-22T12:09:19.875221Z",
     "shell.execute_reply": "2025-09-22T12:09:19.874391Z"
    },
    "papermill": {
     "duration": 0.015438,
     "end_time": "2025-09-22T12:09:19.876508",
     "exception": false,
     "start_time": "2025-09-22T12:09:19.861070",
     "status": "completed"
    },
    "tags": []
   },
   "outputs": [
    {
     "data": {
      "application/javascript": [
       "parent.postMessage({\"jupyterEvent\": \"custom.exercise_interaction\", \"data\": {\"interactionType\": 2, \"questionType\": 1, \"questionId\": \"5_ReviewerMeanRatings\", \"learnToolsVersion\": \"0.3.5\", \"valueTowardsCompletion\": 0.0, \"failureMessage\": \"\", \"exceptionClass\": \"\", \"trace\": \"\", \"outcomeType\": 4}}, \"*\")"
      ],
      "text/plain": [
       "<IPython.core.display.Javascript object>"
      ]
     },
     "metadata": {},
     "output_type": "display_data"
    },
    {
     "data": {
      "text/markdown": [
       "<span style=\"color:#3366cc\">Hint:</span> Use `mean()`."
      ],
      "text/plain": [
       "Hint: Use `mean()`."
      ]
     },
     "metadata": {},
     "output_type": "display_data"
    }
   ],
   "source": [
    "q5.hint()\n",
    "#q5.solution()"
   ]
  },
  {
   "cell_type": "markdown",
   "id": "c7f26051",
   "metadata": {
    "papermill": {
     "duration": 0.006124,
     "end_time": "2025-09-22T12:09:19.888868",
     "exception": false,
     "start_time": "2025-09-22T12:09:19.882744",
     "status": "completed"
    },
    "tags": []
   },
   "source": [
    "Are there significant differences in the average scores assigned by the various reviewers? Run the cell below to use the `describe()` method to see a summary of the range of values."
   ]
  },
  {
   "cell_type": "code",
   "execution_count": 14,
   "id": "e94f3c6a",
   "metadata": {
    "execution": {
     "iopub.execute_input": "2025-09-22T12:09:19.903094Z",
     "iopub.status.busy": "2025-09-22T12:09:19.902281Z",
     "iopub.status.idle": "2025-09-22T12:09:19.923203Z",
     "shell.execute_reply": "2025-09-22T12:09:19.922219Z"
    },
    "papermill": {
     "duration": 0.029496,
     "end_time": "2025-09-22T12:09:19.924592",
     "exception": false,
     "start_time": "2025-09-22T12:09:19.895096",
     "status": "completed"
    },
    "tags": []
   },
   "outputs": [
    {
     "data": {
      "text/plain": [
       "count    19.000000\n",
       "mean     88.233026\n",
       "std       1.243610\n",
       "min      85.855422\n",
       "25%      87.323501\n",
       "50%      88.536235\n",
       "75%      88.975256\n",
       "max      90.562551\n",
       "Name: points, dtype: float64"
      ]
     },
     "execution_count": 14,
     "metadata": {},
     "output_type": "execute_result"
    }
   ],
   "source": [
    "reviewer_mean_ratings.describe()"
   ]
  },
  {
   "cell_type": "markdown",
   "id": "ced8a8c3",
   "metadata": {
    "papermill": {
     "duration": 0.006247,
     "end_time": "2025-09-22T12:09:19.937444",
     "exception": false,
     "start_time": "2025-09-22T12:09:19.931197",
     "status": "completed"
    },
    "tags": []
   },
   "source": [
    "## 6.\n",
    "What combination of countries and varieties are most common? Create a `Series` whose index is a `MultiIndex`of `{country, variety}` pairs. For example, a pinot noir produced in the US should map to `{\"US\", \"Pinot Noir\"}`. Sort the values in the `Series` in descending order based on wine count."
   ]
  },
  {
   "cell_type": "code",
   "execution_count": 15,
   "id": "a0b69267",
   "metadata": {
    "execution": {
     "iopub.execute_input": "2025-09-22T12:09:19.951352Z",
     "iopub.status.busy": "2025-09-22T12:09:19.951043Z",
     "iopub.status.idle": "2025-09-22T12:09:19.984561Z",
     "shell.execute_reply": "2025-09-22T12:09:19.983724Z"
    },
    "papermill": {
     "duration": 0.042266,
     "end_time": "2025-09-22T12:09:19.986018",
     "exception": false,
     "start_time": "2025-09-22T12:09:19.943752",
     "status": "completed"
    },
    "tags": []
   },
   "outputs": [
    {
     "data": {
      "application/javascript": [
       "parent.postMessage({\"jupyterEvent\": \"custom.exercise_interaction\", \"data\": {\"outcomeType\": 1, \"valueTowardsCompletion\": 0.16666666666666666, \"interactionType\": 1, \"questionType\": 1, \"questionId\": \"6_GroupbyCountryVariety\", \"learnToolsVersion\": \"0.3.5\", \"failureMessage\": \"\", \"exceptionClass\": \"\", \"trace\": \"\"}}, \"*\")"
      ],
      "text/plain": [
       "<IPython.core.display.Javascript object>"
      ]
     },
     "metadata": {},
     "output_type": "display_data"
    },
    {
     "data": {
      "text/markdown": [
       "<span style=\"color:#33cc33\">Correct</span>"
      ],
      "text/plain": [
       "Correct"
      ]
     },
     "metadata": {},
     "output_type": "display_data"
    }
   ],
   "source": [
    "country_variety_counts = reviews.groupby(['country', 'variety']).size().sort_values(ascending=False)\n",
    "\n",
    "# Check your answer\n",
    "q6.check()"
   ]
  },
  {
   "cell_type": "code",
   "execution_count": 16,
   "id": "093e890a",
   "metadata": {
    "execution": {
     "iopub.execute_input": "2025-09-22T12:09:20.000509Z",
     "iopub.status.busy": "2025-09-22T12:09:20.000195Z",
     "iopub.status.idle": "2025-09-22T12:09:20.009052Z",
     "shell.execute_reply": "2025-09-22T12:09:20.008357Z"
    },
    "papermill": {
     "duration": 0.0176,
     "end_time": "2025-09-22T12:09:20.010289",
     "exception": false,
     "start_time": "2025-09-22T12:09:19.992689",
     "status": "completed"
    },
    "tags": []
   },
   "outputs": [
    {
     "data": {
      "application/javascript": [
       "parent.postMessage({\"jupyterEvent\": \"custom.exercise_interaction\", \"data\": {\"interactionType\": 2, \"questionType\": 1, \"questionId\": \"6_GroupbyCountryVariety\", \"learnToolsVersion\": \"0.3.5\", \"valueTowardsCompletion\": 0.0, \"failureMessage\": \"\", \"exceptionClass\": \"\", \"trace\": \"\", \"outcomeType\": 4}}, \"*\")"
      ],
      "text/plain": [
       "<IPython.core.display.Javascript object>"
      ]
     },
     "metadata": {},
     "output_type": "display_data"
    },
    {
     "data": {
      "text/markdown": [
       "<span style=\"color:#3366cc\">Hint:</span> Use `groupby()`, and provide a list of columns to group by.  You may also find `size()` and `sort_values()` to be useful!"
      ],
      "text/plain": [
       "Hint: Use `groupby()`, and provide a list of columns to group by.  You may also find `size()` and `sort_values()` to be useful!"
      ]
     },
     "metadata": {},
     "output_type": "display_data"
    },
    {
     "data": {
      "application/javascript": [
       "parent.postMessage({\"jupyterEvent\": \"custom.exercise_interaction\", \"data\": {\"interactionType\": 3, \"questionType\": 1, \"questionId\": \"6_GroupbyCountryVariety\", \"learnToolsVersion\": \"0.3.5\", \"valueTowardsCompletion\": 0.0, \"failureMessage\": \"\", \"exceptionClass\": \"\", \"trace\": \"\", \"outcomeType\": 4}}, \"*\")"
      ],
      "text/plain": [
       "<IPython.core.display.Javascript object>"
      ]
     },
     "metadata": {},
     "output_type": "display_data"
    },
    {
     "data": {
      "text/markdown": [
       "<span style=\"color:#33cc99\">Solution:</span> \n",
       "```python\n",
       "country_variety_counts = reviews.groupby(['country', 'variety']).size().sort_values(ascending=False)\n",
       "```"
      ],
      "text/plain": [
       "Solution: \n",
       "```python\n",
       "country_variety_counts = reviews.groupby(['country', 'variety']).size().sort_values(ascending=False)\n",
       "```"
      ]
     },
     "metadata": {},
     "output_type": "display_data"
    }
   ],
   "source": [
    "q6.hint()\n",
    "q6.solution()"
   ]
  },
  {
   "cell_type": "code",
   "execution_count": 17,
   "id": "f8da1cfd",
   "metadata": {
    "execution": {
     "iopub.execute_input": "2025-09-22T12:09:20.025421Z",
     "iopub.status.busy": "2025-09-22T12:09:20.024874Z",
     "iopub.status.idle": "2025-09-22T12:09:20.059005Z",
     "shell.execute_reply": "2025-09-22T12:09:20.058121Z"
    },
    "papermill": {
     "duration": 0.043338,
     "end_time": "2025-09-22T12:09:20.060443",
     "exception": false,
     "start_time": "2025-09-22T12:09:20.017105",
     "status": "completed"
    },
    "tags": []
   },
   "outputs": [
    {
     "data": {
      "text/plain": [
       "country  variety                 \n",
       "US       Pinot Noir                  9885\n",
       "         Cabernet Sauvignon          7315\n",
       "         Chardonnay                  6801\n",
       "France   Bordeaux-style Red Blend    4725\n",
       "Italy    Red Blend                   3624\n",
       "                                     ... \n",
       "Mexico   Cinsault                       1\n",
       "         Grenache                       1\n",
       "         Merlot                         1\n",
       "         Rosado                         1\n",
       "Uruguay  White Blend                    1\n",
       "Length: 1612, dtype: int64"
      ]
     },
     "execution_count": 17,
     "metadata": {},
     "output_type": "execute_result"
    }
   ],
   "source": [
    "country = reviews.groupby(['country', 'variety']).size().sort_values(ascending=False)\n",
    "country"
   ]
  },
  {
   "cell_type": "markdown",
   "id": "daf4e7cb",
   "metadata": {
    "papermill": {
     "duration": 0.006578,
     "end_time": "2025-09-22T12:09:20.073962",
     "exception": false,
     "start_time": "2025-09-22T12:09:20.067384",
     "status": "completed"
    },
    "tags": []
   },
   "source": [
    "# Keep going\n",
    "\n",
    "Move on to the [**data types and missing data**](https://www.kaggle.com/residentmario/data-types-and-missing-values)."
   ]
  },
  {
   "cell_type": "markdown",
   "id": "8fb62d5a",
   "metadata": {
    "papermill": {
     "duration": 0.006677,
     "end_time": "2025-09-22T12:09:20.087272",
     "exception": false,
     "start_time": "2025-09-22T12:09:20.080595",
     "status": "completed"
    },
    "tags": []
   },
   "source": [
    "---\n",
    "\n",
    "\n",
    "\n",
    "\n",
    "*Have questions or comments? Visit the [course discussion forum](https://www.kaggle.com/learn/pandas/discussion) to chat with other learners.*"
   ]
  }
 ],
 "metadata": {
  "kaggle": {
   "accelerator": "none",
   "dataSources": [
    {
     "datasetId": 655,
     "sourceId": 1252,
     "sourceType": "datasetVersion"
    },
    {
     "datasetId": 2321,
     "sourceId": 3919,
     "sourceType": "datasetVersion"
    },
    {
     "datasetId": 2894,
     "sourceId": 4877,
     "sourceType": "datasetVersion"
    },
    {
     "datasetId": 3491,
     "sourceId": 5624,
     "sourceType": "datasetVersion"
    },
    {
     "datasetId": 1442,
     "sourceId": 8172,
     "sourceType": "datasetVersion"
    },
    {
     "datasetId": 9366,
     "sourceId": 13206,
     "sourceType": "datasetVersion"
    },
    {
     "datasetId": 179555,
     "sourceId": 403916,
     "sourceType": "datasetVersion"
    },
    {
     "datasetId": 4549,
     "sourceId": 466349,
     "sourceType": "datasetVersion"
    },
    {
     "datasetId": 2478,
     "sourceId": 1151655,
     "sourceType": "datasetVersion"
    },
    {
     "datasetId": 10128,
     "sourceId": 5438389,
     "sourceType": "datasetVersion"
    }
   ],
   "isGpuEnabled": false,
   "isInternetEnabled": false,
   "language": "python",
   "sourceType": "notebook"
  },
  "kernelspec": {
   "display_name": "Python 3",
   "language": "python",
   "name": "python3"
  },
  "language_info": {
   "codemirror_mode": {
    "name": "ipython",
    "version": 3
   },
   "file_extension": ".py",
   "mimetype": "text/x-python",
   "name": "python",
   "nbconvert_exporter": "python",
   "pygments_lexer": "ipython3",
   "version": "3.11.13"
  },
  "papermill": {
   "default_parameters": {},
   "duration": 11.340029,
   "end_time": "2025-09-22T12:09:20.713384",
   "environment_variables": {},
   "exception": null,
   "input_path": "__notebook__.ipynb",
   "output_path": "__notebook__.ipynb",
   "parameters": {},
   "start_time": "2025-09-22T12:09:09.373355",
   "version": "2.6.0"
  }
 },
 "nbformat": 4,
 "nbformat_minor": 5
}
