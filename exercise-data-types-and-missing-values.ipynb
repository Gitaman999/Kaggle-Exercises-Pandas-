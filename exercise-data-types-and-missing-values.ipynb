{
 "cells": [
  {
   "cell_type": "markdown",
   "id": "f79648fe",
   "metadata": {
    "papermill": {
     "duration": 0.00407,
     "end_time": "2025-09-22T12:46:51.718976",
     "exception": false,
     "start_time": "2025-09-22T12:46:51.714906",
     "status": "completed"
    },
    "tags": []
   },
   "source": [
    "**This notebook is an exercise in the [Pandas](https://www.kaggle.com/learn/pandas) course.  You can reference the tutorial at [this link](https://www.kaggle.com/residentmario/data-types-and-missing-values).**\n",
    "\n",
    "---\n"
   ]
  },
  {
   "cell_type": "markdown",
   "id": "8a329afb",
   "metadata": {
    "papermill": {
     "duration": 0.003044,
     "end_time": "2025-09-22T12:46:51.725593",
     "exception": false,
     "start_time": "2025-09-22T12:46:51.722549",
     "status": "completed"
    },
    "tags": []
   },
   "source": [
    "# Introduction\n",
    "\n",
    "Run the following cell to load your data and some utility functions."
   ]
  },
  {
   "cell_type": "code",
   "execution_count": 1,
   "id": "21f5d22f",
   "metadata": {
    "execution": {
     "iopub.execute_input": "2025-09-22T12:46:51.733334Z",
     "iopub.status.busy": "2025-09-22T12:46:51.733006Z",
     "iopub.status.idle": "2025-09-22T12:46:56.782998Z",
     "shell.execute_reply": "2025-09-22T12:46:56.781894Z"
    },
    "papermill": {
     "duration": 5.05576,
     "end_time": "2025-09-22T12:46:56.784644",
     "exception": false,
     "start_time": "2025-09-22T12:46:51.728884",
     "status": "completed"
    },
    "tags": []
   },
   "outputs": [
    {
     "name": "stdout",
     "output_type": "stream",
     "text": [
      "Setup complete.\n"
     ]
    }
   ],
   "source": [
    "import pandas as pd\n",
    "\n",
    "reviews = pd.read_csv(\"../input/wine-reviews/winemag-data-130k-v2.csv\", index_col=0)\n",
    "\n",
    "from learntools.core import binder; binder.bind(globals())\n",
    "from learntools.pandas.data_types_and_missing_data import *\n",
    "print(\"Setup complete.\")"
   ]
  },
  {
   "cell_type": "markdown",
   "id": "862e571d",
   "metadata": {
    "papermill": {
     "duration": 0.003386,
     "end_time": "2025-09-22T12:46:56.791887",
     "exception": false,
     "start_time": "2025-09-22T12:46:56.788501",
     "status": "completed"
    },
    "tags": []
   },
   "source": [
    "# Exercises"
   ]
  },
  {
   "cell_type": "markdown",
   "id": "7e8af3f7",
   "metadata": {
    "papermill": {
     "duration": 0.003101,
     "end_time": "2025-09-22T12:46:56.798609",
     "exception": false,
     "start_time": "2025-09-22T12:46:56.795508",
     "status": "completed"
    },
    "tags": []
   },
   "source": [
    "## 1. \n",
    "What is the data type of the `points` column in the dataset?"
   ]
  },
  {
   "cell_type": "code",
   "execution_count": 2,
   "id": "158e2a91",
   "metadata": {
    "execution": {
     "iopub.execute_input": "2025-09-22T12:46:56.806313Z",
     "iopub.status.busy": "2025-09-22T12:46:56.805987Z",
     "iopub.status.idle": "2025-09-22T12:46:56.814340Z",
     "shell.execute_reply": "2025-09-22T12:46:56.813545Z"
    },
    "papermill": {
     "duration": 0.013788,
     "end_time": "2025-09-22T12:46:56.815583",
     "exception": false,
     "start_time": "2025-09-22T12:46:56.801795",
     "status": "completed"
    },
    "tags": []
   },
   "outputs": [
    {
     "data": {
      "application/javascript": [
       "parent.postMessage({\"jupyterEvent\": \"custom.exercise_interaction\", \"data\": {\"outcomeType\": 1, \"valueTowardsCompletion\": 0.25, \"interactionType\": 1, \"questionType\": 1, \"questionId\": \"1_PointsDtype\", \"learnToolsVersion\": \"0.3.5\", \"failureMessage\": \"\", \"exceptionClass\": \"\", \"trace\": \"\"}}, \"*\")"
      ],
      "text/plain": [
       "<IPython.core.display.Javascript object>"
      ]
     },
     "metadata": {},
     "output_type": "display_data"
    },
    {
     "data": {
      "text/markdown": [
       "<span style=\"color:#33cc33\">Correct</span>"
      ],
      "text/plain": [
       "Correct"
      ]
     },
     "metadata": {},
     "output_type": "display_data"
    }
   ],
   "source": [
    "# Your code here\n",
    "dtype = reviews.points.dtype\n",
    "\n",
    "# Check your answer\n",
    "q1.check()"
   ]
  },
  {
   "cell_type": "code",
   "execution_count": 3,
   "id": "d7e059b5",
   "metadata": {
    "execution": {
     "iopub.execute_input": "2025-09-22T12:46:56.823941Z",
     "iopub.status.busy": "2025-09-22T12:46:56.823604Z",
     "iopub.status.idle": "2025-09-22T12:46:56.827722Z",
     "shell.execute_reply": "2025-09-22T12:46:56.826701Z"
    },
    "papermill": {
     "duration": 0.009969,
     "end_time": "2025-09-22T12:46:56.829189",
     "exception": false,
     "start_time": "2025-09-22T12:46:56.819220",
     "status": "completed"
    },
    "tags": []
   },
   "outputs": [],
   "source": [
    "#q1.hint()\n",
    "#q1.solution()"
   ]
  },
  {
   "cell_type": "markdown",
   "id": "cc249d97",
   "metadata": {
    "papermill": {
     "duration": 0.003329,
     "end_time": "2025-09-22T12:46:56.836135",
     "exception": false,
     "start_time": "2025-09-22T12:46:56.832806",
     "status": "completed"
    },
    "tags": []
   },
   "source": [
    "## 2. \n",
    "Create a Series from entries in the `points` column, but convert the entries to strings. Hint: strings are `str` in native Python."
   ]
  },
  {
   "cell_type": "code",
   "execution_count": 4,
   "id": "1886c73a",
   "metadata": {
    "execution": {
     "iopub.execute_input": "2025-09-22T12:46:56.844999Z",
     "iopub.status.busy": "2025-09-22T12:46:56.844075Z",
     "iopub.status.idle": "2025-09-22T12:46:56.890438Z",
     "shell.execute_reply": "2025-09-22T12:46:56.889324Z"
    },
    "papermill": {
     "duration": 0.052365,
     "end_time": "2025-09-22T12:46:56.891994",
     "exception": false,
     "start_time": "2025-09-22T12:46:56.839629",
     "status": "completed"
    },
    "tags": []
   },
   "outputs": [
    {
     "data": {
      "application/javascript": [
       "parent.postMessage({\"jupyterEvent\": \"custom.exercise_interaction\", \"data\": {\"outcomeType\": 1, \"valueTowardsCompletion\": 0.25, \"interactionType\": 1, \"questionType\": 1, \"questionId\": \"2_StrPoints\", \"learnToolsVersion\": \"0.3.5\", \"failureMessage\": \"\", \"exceptionClass\": \"\", \"trace\": \"\"}}, \"*\")"
      ],
      "text/plain": [
       "<IPython.core.display.Javascript object>"
      ]
     },
     "metadata": {},
     "output_type": "display_data"
    },
    {
     "data": {
      "text/markdown": [
       "<span style=\"color:#33cc33\">Correct</span>"
      ],
      "text/plain": [
       "Correct"
      ]
     },
     "metadata": {},
     "output_type": "display_data"
    }
   ],
   "source": [
    "point_strings = reviews.points.astype('str')\n",
    "\n",
    "# Check your answer\n",
    "q2.check()"
   ]
  },
  {
   "cell_type": "code",
   "execution_count": 5,
   "id": "aaa60924",
   "metadata": {
    "execution": {
     "iopub.execute_input": "2025-09-22T12:46:56.901394Z",
     "iopub.status.busy": "2025-09-22T12:46:56.901074Z",
     "iopub.status.idle": "2025-09-22T12:46:56.905195Z",
     "shell.execute_reply": "2025-09-22T12:46:56.904253Z"
    },
    "papermill": {
     "duration": 0.009872,
     "end_time": "2025-09-22T12:46:56.906587",
     "exception": false,
     "start_time": "2025-09-22T12:46:56.896715",
     "status": "completed"
    },
    "tags": []
   },
   "outputs": [],
   "source": [
    "#q2.hint()\n",
    "#q2.solution()"
   ]
  },
  {
   "cell_type": "markdown",
   "id": "ecaebe24",
   "metadata": {
    "papermill": {
     "duration": 0.003425,
     "end_time": "2025-09-22T12:46:56.913756",
     "exception": false,
     "start_time": "2025-09-22T12:46:56.910331",
     "status": "completed"
    },
    "tags": []
   },
   "source": [
    "## 3.\n",
    "Sometimes the price column is null. How many reviews in the dataset are missing a price?"
   ]
  },
  {
   "cell_type": "code",
   "execution_count": 6,
   "id": "13dcc4e2",
   "metadata": {
    "execution": {
     "iopub.execute_input": "2025-09-22T12:46:56.921956Z",
     "iopub.status.busy": "2025-09-22T12:46:56.921598Z",
     "iopub.status.idle": "2025-09-22T12:46:56.930165Z",
     "shell.execute_reply": "2025-09-22T12:46:56.929240Z"
    },
    "papermill": {
     "duration": 0.014356,
     "end_time": "2025-09-22T12:46:56.931579",
     "exception": false,
     "start_time": "2025-09-22T12:46:56.917223",
     "status": "completed"
    },
    "tags": []
   },
   "outputs": [
    {
     "data": {
      "application/javascript": [
       "parent.postMessage({\"jupyterEvent\": \"custom.exercise_interaction\", \"data\": {\"outcomeType\": 1, \"valueTowardsCompletion\": 0.25, \"interactionType\": 1, \"questionType\": 1, \"questionId\": \"3_CountMissingPrices\", \"learnToolsVersion\": \"0.3.5\", \"failureMessage\": \"\", \"exceptionClass\": \"\", \"trace\": \"\"}}, \"*\")"
      ],
      "text/plain": [
       "<IPython.core.display.Javascript object>"
      ]
     },
     "metadata": {},
     "output_type": "display_data"
    },
    {
     "data": {
      "text/markdown": [
       "<span style=\"color:#33cc33\">Correct</span>"
      ],
      "text/plain": [
       "Correct"
      ]
     },
     "metadata": {},
     "output_type": "display_data"
    }
   ],
   "source": [
    "n_missing_prices = reviews.price.isnull().sum()\n",
    "\n",
    "# Check your answer\n",
    "q3.check()"
   ]
  },
  {
   "cell_type": "code",
   "execution_count": 7,
   "id": "4d012e39",
   "metadata": {
    "execution": {
     "iopub.execute_input": "2025-09-22T12:46:56.940764Z",
     "iopub.status.busy": "2025-09-22T12:46:56.940453Z",
     "iopub.status.idle": "2025-09-22T12:46:56.950120Z",
     "shell.execute_reply": "2025-09-22T12:46:56.949359Z"
    },
    "papermill": {
     "duration": 0.015879,
     "end_time": "2025-09-22T12:46:56.951484",
     "exception": false,
     "start_time": "2025-09-22T12:46:56.935605",
     "status": "completed"
    },
    "tags": []
   },
   "outputs": [
    {
     "data": {
      "application/javascript": [
       "parent.postMessage({\"jupyterEvent\": \"custom.exercise_interaction\", \"data\": {\"interactionType\": 2, \"questionType\": 1, \"questionId\": \"3_CountMissingPrices\", \"learnToolsVersion\": \"0.3.5\", \"valueTowardsCompletion\": 0.0, \"failureMessage\": \"\", \"exceptionClass\": \"\", \"trace\": \"\", \"outcomeType\": 4}}, \"*\")"
      ],
      "text/plain": [
       "<IPython.core.display.Javascript object>"
      ]
     },
     "metadata": {},
     "output_type": "display_data"
    },
    {
     "data": {
      "text/markdown": [
       "<span style=\"color:#3366cc\">Hint:</span> Use `pd.isnull()`."
      ],
      "text/plain": [
       "Hint: Use `pd.isnull()`."
      ]
     },
     "metadata": {},
     "output_type": "display_data"
    },
    {
     "data": {
      "application/javascript": [
       "parent.postMessage({\"jupyterEvent\": \"custom.exercise_interaction\", \"data\": {\"interactionType\": 3, \"questionType\": 1, \"questionId\": \"3_CountMissingPrices\", \"learnToolsVersion\": \"0.3.5\", \"valueTowardsCompletion\": 0.0, \"failureMessage\": \"\", \"exceptionClass\": \"\", \"trace\": \"\", \"outcomeType\": 4}}, \"*\")"
      ],
      "text/plain": [
       "<IPython.core.display.Javascript object>"
      ]
     },
     "metadata": {},
     "output_type": "display_data"
    },
    {
     "data": {
      "text/markdown": [
       "<span style=\"color:#33cc99\">Solution:</span> \n",
       "```python\n",
       "missing_price_reviews = reviews[reviews.price.isnull()]\n",
       "n_missing_prices = len(missing_price_reviews)\n",
       "# Cute alternative solution: if we sum a boolean series, True is treated as 1 and False as 0\n",
       "n_missing_prices = reviews.price.isnull().sum()\n",
       "# or equivalently:\n",
       "n_missing_prices = pd.isnull(reviews.price).sum()\n",
       "\n",
       "```"
      ],
      "text/plain": [
       "Solution: \n",
       "```python\n",
       "missing_price_reviews = reviews[reviews.price.isnull()]\n",
       "n_missing_prices = len(missing_price_reviews)\n",
       "# Cute alternative solution: if we sum a boolean series, True is treated as 1 and False as 0\n",
       "n_missing_prices = reviews.price.isnull().sum()\n",
       "# or equivalently:\n",
       "n_missing_prices = pd.isnull(reviews.price).sum()\n",
       "\n",
       "```"
      ]
     },
     "metadata": {},
     "output_type": "display_data"
    }
   ],
   "source": [
    "q3.hint()\n",
    "q3.solution()"
   ]
  },
  {
   "cell_type": "markdown",
   "id": "080a7ab0",
   "metadata": {
    "papermill": {
     "duration": 0.003918,
     "end_time": "2025-09-22T12:46:56.959716",
     "exception": false,
     "start_time": "2025-09-22T12:46:56.955798",
     "status": "completed"
    },
    "tags": []
   },
   "source": [
    "## 4.\n",
    "What are the most common wine-producing regions? Create a Series counting the number of times each value occurs in the `region_1` field. This field is often missing data, so replace missing values with `Unknown`. Sort in descending order.  Your output should look something like this:\n",
    "\n",
    "```\n",
    "Unknown                    21247\n",
    "Napa Valley                 4480\n",
    "                           ...  \n",
    "Bardolino Superiore            1\n",
    "Primitivo del Tarantino        1\n",
    "Name: region_1, Length: 1230, dtype: int64\n",
    "```"
   ]
  },
  {
   "cell_type": "code",
   "execution_count": 8,
   "id": "043f4ce6",
   "metadata": {
    "execution": {
     "iopub.execute_input": "2025-09-22T12:46:56.969795Z",
     "iopub.status.busy": "2025-09-22T12:46:56.968962Z",
     "iopub.status.idle": "2025-09-22T12:46:57.017437Z",
     "shell.execute_reply": "2025-09-22T12:46:57.016416Z"
    },
    "papermill": {
     "duration": 0.054953,
     "end_time": "2025-09-22T12:46:57.018822",
     "exception": false,
     "start_time": "2025-09-22T12:46:56.963869",
     "status": "completed"
    },
    "tags": []
   },
   "outputs": [
    {
     "data": {
      "application/javascript": [
       "parent.postMessage({\"jupyterEvent\": \"custom.exercise_interaction\", \"data\": {\"outcomeType\": 1, \"valueTowardsCompletion\": 0.25, \"interactionType\": 1, \"questionType\": 2, \"questionId\": \"4_ReviewsPerRegion\", \"learnToolsVersion\": \"0.3.5\", \"failureMessage\": \"\", \"exceptionClass\": \"\", \"trace\": \"\"}}, \"*\")"
      ],
      "text/plain": [
       "<IPython.core.display.Javascript object>"
      ]
     },
     "metadata": {},
     "output_type": "display_data"
    },
    {
     "data": {
      "text/markdown": [
       "<span style=\"color:#33cc33\">Correct</span>"
      ],
      "text/plain": [
       "Correct"
      ]
     },
     "metadata": {},
     "output_type": "display_data"
    }
   ],
   "source": [
    "reviews_unknown = reviews.region_1.fillna(\"Unknown\")\n",
    "reviews_per_region = reviews_unknown.value_counts().sort_values(ascending=False)\n",
    "\n",
    "# Check your answer\n",
    "q4.check()"
   ]
  },
  {
   "cell_type": "code",
   "execution_count": 9,
   "id": "dc541ca1",
   "metadata": {
    "execution": {
     "iopub.execute_input": "2025-09-22T12:46:57.028984Z",
     "iopub.status.busy": "2025-09-22T12:46:57.028664Z",
     "iopub.status.idle": "2025-09-22T12:46:57.036191Z",
     "shell.execute_reply": "2025-09-22T12:46:57.035325Z"
    },
    "papermill": {
     "duration": 0.014139,
     "end_time": "2025-09-22T12:46:57.037654",
     "exception": false,
     "start_time": "2025-09-22T12:46:57.023515",
     "status": "completed"
    },
    "tags": []
   },
   "outputs": [
    {
     "data": {
      "application/javascript": [
       "parent.postMessage({\"jupyterEvent\": \"custom.exercise_interaction\", \"data\": {\"interactionType\": 2, \"questionType\": 2, \"questionId\": \"4_ReviewsPerRegion\", \"learnToolsVersion\": \"0.3.5\", \"valueTowardsCompletion\": 0.0, \"failureMessage\": \"\", \"exceptionClass\": \"\", \"trace\": \"\", \"outcomeType\": 4}}, \"*\")"
      ],
      "text/plain": [
       "<IPython.core.display.Javascript object>"
      ]
     },
     "metadata": {},
     "output_type": "display_data"
    },
    {
     "data": {
      "text/markdown": [
       "<span style=\"color:#3366cc\">Hint:</span> Use `fillna()`, `value_counts()`, and `sort_values()`."
      ],
      "text/plain": [
       "Hint: Use `fillna()`, `value_counts()`, and `sort_values()`."
      ]
     },
     "metadata": {},
     "output_type": "display_data"
    }
   ],
   "source": [
    "q4.hint()\n",
    "#q4.solution()"
   ]
  },
  {
   "cell_type": "markdown",
   "id": "6bc0dd2f",
   "metadata": {
    "papermill": {
     "duration": 0.004579,
     "end_time": "2025-09-22T12:46:57.046872",
     "exception": false,
     "start_time": "2025-09-22T12:46:57.042293",
     "status": "completed"
    },
    "tags": []
   },
   "source": [
    "# Keep going\n",
    "\n",
    "Move on to **[renaming and combining](https://www.kaggle.com/residentmario/renaming-and-combining)**."
   ]
  },
  {
   "cell_type": "markdown",
   "id": "68cd11d2",
   "metadata": {
    "papermill": {
     "duration": 0.004523,
     "end_time": "2025-09-22T12:46:57.055852",
     "exception": false,
     "start_time": "2025-09-22T12:46:57.051329",
     "status": "completed"
    },
    "tags": []
   },
   "source": [
    "---\n",
    "\n",
    "\n",
    "\n",
    "\n",
    "*Have questions or comments? Visit the [course discussion forum](https://www.kaggle.com/learn/pandas/discussion) to chat with other learners.*"
   ]
  }
 ],
 "metadata": {
  "kaggle": {
   "accelerator": "none",
   "dataSources": [
    {
     "datasetId": 655,
     "sourceId": 1252,
     "sourceType": "datasetVersion"
    },
    {
     "datasetId": 2321,
     "sourceId": 3919,
     "sourceType": "datasetVersion"
    },
    {
     "datasetId": 2894,
     "sourceId": 4877,
     "sourceType": "datasetVersion"
    },
    {
     "datasetId": 3491,
     "sourceId": 5624,
     "sourceType": "datasetVersion"
    },
    {
     "datasetId": 1442,
     "sourceId": 8172,
     "sourceType": "datasetVersion"
    },
    {
     "datasetId": 9366,
     "sourceId": 13206,
     "sourceType": "datasetVersion"
    },
    {
     "datasetId": 179555,
     "sourceId": 403916,
     "sourceType": "datasetVersion"
    },
    {
     "datasetId": 4549,
     "sourceId": 466349,
     "sourceType": "datasetVersion"
    },
    {
     "datasetId": 2478,
     "sourceId": 1151655,
     "sourceType": "datasetVersion"
    },
    {
     "datasetId": 10128,
     "sourceId": 5438389,
     "sourceType": "datasetVersion"
    }
   ],
   "isGpuEnabled": false,
   "isInternetEnabled": false,
   "language": "python",
   "sourceType": "notebook"
  },
  "kernelspec": {
   "display_name": "Python 3",
   "language": "python",
   "name": "python3"
  },
  "language_info": {
   "codemirror_mode": {
    "name": "ipython",
    "version": 3
   },
   "file_extension": ".py",
   "mimetype": "text/x-python",
   "name": "python",
   "nbconvert_exporter": "python",
   "pygments_lexer": "ipython3",
   "version": "3.11.13"
  },
  "papermill": {
   "default_parameters": {},
   "duration": 11.466484,
   "end_time": "2025-09-22T12:46:57.680475",
   "environment_variables": {},
   "exception": null,
   "input_path": "__notebook__.ipynb",
   "output_path": "__notebook__.ipynb",
   "parameters": {},
   "start_time": "2025-09-22T12:46:46.213991",
   "version": "2.6.0"
  }
 },
 "nbformat": 4,
 "nbformat_minor": 5
}
