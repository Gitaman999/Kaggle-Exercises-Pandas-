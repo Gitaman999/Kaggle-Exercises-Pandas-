{
 "cells": [
  {
   "cell_type": "markdown",
   "id": "af0a0b09",
   "metadata": {
    "papermill": {
     "duration": 0.006373,
     "end_time": "2025-09-21T20:58:30.857694",
     "exception": false,
     "start_time": "2025-09-21T20:58:30.851321",
     "status": "completed"
    },
    "tags": []
   },
   "source": [
    "**This notebook is an exercise in the [Pandas](https://www.kaggle.com/learn/pandas) course.  You can reference the tutorial at [this link](https://www.kaggle.com/residentmario/creating-reading-and-writing).**\n",
    "\n",
    "---\n"
   ]
  },
  {
   "cell_type": "markdown",
   "id": "37f0b47f",
   "metadata": {
    "papermill": {
     "duration": 0.005312,
     "end_time": "2025-09-21T20:58:30.869100",
     "exception": false,
     "start_time": "2025-09-21T20:58:30.863788",
     "status": "completed"
    },
    "tags": []
   },
   "source": [
    "# Introduction\n",
    "\n",
    "The first step in most data analytics projects is reading the data file. In this exercise, you'll create Series and DataFrame objects, both by hand and by reading data files.\n",
    "\n",
    "Run the code cell below to load libraries you will need (including code to check your answers)."
   ]
  },
  {
   "cell_type": "code",
   "execution_count": 1,
   "id": "ecd50926",
   "metadata": {
    "execution": {
     "iopub.execute_input": "2025-09-21T20:58:30.883038Z",
     "iopub.status.busy": "2025-09-21T20:58:30.882672Z",
     "iopub.status.idle": "2025-09-21T20:58:35.132520Z",
     "shell.execute_reply": "2025-09-21T20:58:35.131299Z"
    },
    "papermill": {
     "duration": 4.26034,
     "end_time": "2025-09-21T20:58:35.134687",
     "exception": false,
     "start_time": "2025-09-21T20:58:30.874347",
     "status": "completed"
    },
    "tags": []
   },
   "outputs": [
    {
     "name": "stdout",
     "output_type": "stream",
     "text": [
      "Setup complete.\n"
     ]
    }
   ],
   "source": [
    "import pandas as pd\n",
    "pd.set_option('display.max_rows', 5)\n",
    "from learntools.core import binder; binder.bind(globals())\n",
    "from learntools.pandas.creating_reading_and_writing import *\n",
    "print(\"Setup complete.\")"
   ]
  },
  {
   "cell_type": "markdown",
   "id": "4abb3bd5",
   "metadata": {
    "papermill": {
     "duration": 0.004353,
     "end_time": "2025-09-21T20:58:35.144178",
     "exception": false,
     "start_time": "2025-09-21T20:58:35.139825",
     "status": "completed"
    },
    "tags": []
   },
   "source": [
    "# Exercises"
   ]
  },
  {
   "cell_type": "markdown",
   "id": "9b6ef782",
   "metadata": {
    "papermill": {
     "duration": 0.005749,
     "end_time": "2025-09-21T20:58:35.155085",
     "exception": false,
     "start_time": "2025-09-21T20:58:35.149336",
     "status": "completed"
    },
    "tags": []
   },
   "source": [
    "## 1.\n",
    "\n",
    "In the cell below, create a DataFrame `fruits` that looks like this:\n",
    "\n",
    "![](https://storage.googleapis.com/kaggle-media/learn/images/Ax3pp2A.png)"
   ]
  },
  {
   "cell_type": "code",
   "execution_count": 2,
   "id": "bc1e2f40",
   "metadata": {
    "execution": {
     "iopub.execute_input": "2025-09-21T20:58:35.167327Z",
     "iopub.status.busy": "2025-09-21T20:58:35.166543Z",
     "iopub.status.idle": "2025-09-21T20:58:35.196920Z",
     "shell.execute_reply": "2025-09-21T20:58:35.195809Z"
    },
    "papermill": {
     "duration": 0.038446,
     "end_time": "2025-09-21T20:58:35.198793",
     "exception": false,
     "start_time": "2025-09-21T20:58:35.160347",
     "status": "completed"
    },
    "tags": []
   },
   "outputs": [
    {
     "data": {
      "application/javascript": [
       "parent.postMessage({\"jupyterEvent\": \"custom.exercise_interaction\", \"data\": {\"outcomeType\": 1, \"valueTowardsCompletion\": 0.16666666666666666, \"interactionType\": 1, \"questionType\": 1, \"questionId\": \"1_FruitDfCreation\", \"learnToolsVersion\": \"0.3.5\", \"failureMessage\": \"\", \"exceptionClass\": \"\", \"trace\": \"\"}}, \"*\")"
      ],
      "text/plain": [
       "<IPython.core.display.Javascript object>"
      ]
     },
     "metadata": {},
     "output_type": "display_data"
    },
    {
     "data": {
      "text/markdown": [
       "<span style=\"color:#33cc33\">Correct</span>"
      ],
      "text/plain": [
       "Correct"
      ]
     },
     "metadata": {},
     "output_type": "display_data"
    },
    {
     "data": {
      "text/html": [
       "<div>\n",
       "<style scoped>\n",
       "    .dataframe tbody tr th:only-of-type {\n",
       "        vertical-align: middle;\n",
       "    }\n",
       "\n",
       "    .dataframe tbody tr th {\n",
       "        vertical-align: top;\n",
       "    }\n",
       "\n",
       "    .dataframe thead th {\n",
       "        text-align: right;\n",
       "    }\n",
       "</style>\n",
       "<table border=\"1\" class=\"dataframe\">\n",
       "  <thead>\n",
       "    <tr style=\"text-align: right;\">\n",
       "      <th></th>\n",
       "      <th>Apples</th>\n",
       "      <th>Bananas</th>\n",
       "    </tr>\n",
       "  </thead>\n",
       "  <tbody>\n",
       "    <tr>\n",
       "      <th>0</th>\n",
       "      <td>30</td>\n",
       "      <td>21</td>\n",
       "    </tr>\n",
       "  </tbody>\n",
       "</table>\n",
       "</div>"
      ],
      "text/plain": [
       "   Apples  Bananas\n",
       "0      30       21"
      ]
     },
     "execution_count": 2,
     "metadata": {},
     "output_type": "execute_result"
    }
   ],
   "source": [
    "# Your code goes here. Create a dataframe matching the above diagram and assign it to the variable fruits.\n",
    "fruits = pd.DataFrame({'Apples': [30], 'Bananas': [21]})\n",
    "\n",
    "# Check your answer\n",
    "q1.check()\n",
    "fruits"
   ]
  },
  {
   "cell_type": "code",
   "execution_count": 3,
   "id": "3c0c0885",
   "metadata": {
    "execution": {
     "iopub.execute_input": "2025-09-21T20:58:35.211233Z",
     "iopub.status.busy": "2025-09-21T20:58:35.210893Z",
     "iopub.status.idle": "2025-09-21T20:58:35.221962Z",
     "shell.execute_reply": "2025-09-21T20:58:35.220848Z"
    },
    "papermill": {
     "duration": 0.01891,
     "end_time": "2025-09-21T20:58:35.223600",
     "exception": false,
     "start_time": "2025-09-21T20:58:35.204690",
     "status": "completed"
    },
    "tags": []
   },
   "outputs": [
    {
     "data": {
      "application/javascript": [
       "parent.postMessage({\"jupyterEvent\": \"custom.exercise_interaction\", \"data\": {\"interactionType\": 2, \"questionType\": 1, \"questionId\": \"1_FruitDfCreation\", \"learnToolsVersion\": \"0.3.5\", \"valueTowardsCompletion\": 0.0, \"failureMessage\": \"\", \"exceptionClass\": \"\", \"trace\": \"\", \"outcomeType\": 4}}, \"*\")"
      ],
      "text/plain": [
       "<IPython.core.display.Javascript object>"
      ]
     },
     "metadata": {},
     "output_type": "display_data"
    },
    {
     "data": {
      "text/markdown": [
       "<span style=\"color:#3366cc\">Hint:</span> Use the `pd.DataFrame` constructor to create the DataFrame."
      ],
      "text/plain": [
       "Hint: Use the `pd.DataFrame` constructor to create the DataFrame."
      ]
     },
     "metadata": {},
     "output_type": "display_data"
    },
    {
     "data": {
      "application/javascript": [
       "parent.postMessage({\"jupyterEvent\": \"custom.exercise_interaction\", \"data\": {\"interactionType\": 3, \"questionType\": 1, \"questionId\": \"1_FruitDfCreation\", \"learnToolsVersion\": \"0.3.5\", \"valueTowardsCompletion\": 0.0, \"failureMessage\": \"\", \"exceptionClass\": \"\", \"trace\": \"\", \"outcomeType\": 4}}, \"*\")"
      ],
      "text/plain": [
       "<IPython.core.display.Javascript object>"
      ]
     },
     "metadata": {},
     "output_type": "display_data"
    },
    {
     "data": {
      "text/markdown": [
       "<span style=\"color:#33cc99\">Solution:</span> \n",
       "```python\n",
       "fruits = pd.DataFrame([[30, 21]], columns=['Apples', 'Bananas'])\n",
       "```"
      ],
      "text/plain": [
       "Solution: \n",
       "```python\n",
       "fruits = pd.DataFrame([[30, 21]], columns=['Apples', 'Bananas'])\n",
       "```"
      ]
     },
     "metadata": {},
     "output_type": "display_data"
    }
   ],
   "source": [
    "q1.hint()\n",
    "q1.solution()"
   ]
  },
  {
   "cell_type": "markdown",
   "id": "e672d438",
   "metadata": {
    "papermill": {
     "duration": 0.005146,
     "end_time": "2025-09-21T20:58:35.235204",
     "exception": false,
     "start_time": "2025-09-21T20:58:35.230058",
     "status": "completed"
    },
    "tags": []
   },
   "source": [
    "## 2.\n",
    "\n",
    "Create a dataframe `fruit_sales` that matches the diagram below:\n",
    "\n",
    "![](https://storage.googleapis.com/kaggle-media/learn/images/CHPn7ZF.png)"
   ]
  },
  {
   "cell_type": "code",
   "execution_count": 4,
   "id": "cfcb6361",
   "metadata": {
    "execution": {
     "iopub.execute_input": "2025-09-21T20:58:35.247804Z",
     "iopub.status.busy": "2025-09-21T20:58:35.247412Z",
     "iopub.status.idle": "2025-09-21T20:58:35.261552Z",
     "shell.execute_reply": "2025-09-21T20:58:35.260446Z"
    },
    "papermill": {
     "duration": 0.02254,
     "end_time": "2025-09-21T20:58:35.263272",
     "exception": false,
     "start_time": "2025-09-21T20:58:35.240732",
     "status": "completed"
    },
    "tags": []
   },
   "outputs": [
    {
     "data": {
      "application/javascript": [
       "parent.postMessage({\"jupyterEvent\": \"custom.exercise_interaction\", \"data\": {\"outcomeType\": 1, \"valueTowardsCompletion\": 0.16666666666666666, \"interactionType\": 1, \"questionType\": 1, \"questionId\": \"2_FruitSalesDfCreation\", \"learnToolsVersion\": \"0.3.5\", \"failureMessage\": \"\", \"exceptionClass\": \"\", \"trace\": \"\"}}, \"*\")"
      ],
      "text/plain": [
       "<IPython.core.display.Javascript object>"
      ]
     },
     "metadata": {},
     "output_type": "display_data"
    },
    {
     "data": {
      "text/markdown": [
       "<span style=\"color:#33cc33\">Correct</span>"
      ],
      "text/plain": [
       "Correct"
      ]
     },
     "metadata": {},
     "output_type": "display_data"
    },
    {
     "data": {
      "text/html": [
       "<div>\n",
       "<style scoped>\n",
       "    .dataframe tbody tr th:only-of-type {\n",
       "        vertical-align: middle;\n",
       "    }\n",
       "\n",
       "    .dataframe tbody tr th {\n",
       "        vertical-align: top;\n",
       "    }\n",
       "\n",
       "    .dataframe thead th {\n",
       "        text-align: right;\n",
       "    }\n",
       "</style>\n",
       "<table border=\"1\" class=\"dataframe\">\n",
       "  <thead>\n",
       "    <tr style=\"text-align: right;\">\n",
       "      <th></th>\n",
       "      <th>Apples</th>\n",
       "      <th>Bananas</th>\n",
       "    </tr>\n",
       "  </thead>\n",
       "  <tbody>\n",
       "    <tr>\n",
       "      <th>2017 Sales</th>\n",
       "      <td>35</td>\n",
       "      <td>21</td>\n",
       "    </tr>\n",
       "    <tr>\n",
       "      <th>2018 Sales</th>\n",
       "      <td>41</td>\n",
       "      <td>34</td>\n",
       "    </tr>\n",
       "  </tbody>\n",
       "</table>\n",
       "</div>"
      ],
      "text/plain": [
       "            Apples  Bananas\n",
       "2017 Sales      35       21\n",
       "2018 Sales      41       34"
      ]
     },
     "execution_count": 4,
     "metadata": {},
     "output_type": "execute_result"
    }
   ],
   "source": [
    "# Your code goes here. Create a dataframe matching the above diagram and assign it to the variable fruit_sales.\n",
    "fruit_sales = pd.DataFrame([[35,21],[41,34]], columns=['Apples', 'Bananas'],\n",
    "                           index = ['2017 Sales', '2018 Sales'])\n",
    "\n",
    "# Check your answer\n",
    "q2.check()\n",
    "fruit_sales"
   ]
  },
  {
   "cell_type": "code",
   "execution_count": 5,
   "id": "bd392279",
   "metadata": {
    "execution": {
     "iopub.execute_input": "2025-09-21T20:58:35.276371Z",
     "iopub.status.busy": "2025-09-21T20:58:35.276050Z",
     "iopub.status.idle": "2025-09-21T20:58:35.287517Z",
     "shell.execute_reply": "2025-09-21T20:58:35.286735Z"
    },
    "papermill": {
     "duration": 0.019955,
     "end_time": "2025-09-21T20:58:35.289236",
     "exception": false,
     "start_time": "2025-09-21T20:58:35.269281",
     "status": "completed"
    },
    "tags": []
   },
   "outputs": [
    {
     "data": {
      "application/javascript": [
       "parent.postMessage({\"jupyterEvent\": \"custom.exercise_interaction\", \"data\": {\"interactionType\": 2, \"questionType\": 1, \"questionId\": \"2_FruitSalesDfCreation\", \"learnToolsVersion\": \"0.3.5\", \"valueTowardsCompletion\": 0.0, \"failureMessage\": \"\", \"exceptionClass\": \"\", \"trace\": \"\", \"outcomeType\": 4}}, \"*\")"
      ],
      "text/plain": [
       "<IPython.core.display.Javascript object>"
      ]
     },
     "metadata": {},
     "output_type": "display_data"
    },
    {
     "data": {
      "text/markdown": [
       "<span style=\"color:#3366cc\">Hint:</span> Set the row labels in the DataFrame by using the `index` parameter in `pd.DataFrame`."
      ],
      "text/plain": [
       "Hint: Set the row labels in the DataFrame by using the `index` parameter in `pd.DataFrame`."
      ]
     },
     "metadata": {},
     "output_type": "display_data"
    },
    {
     "data": {
      "application/javascript": [
       "parent.postMessage({\"jupyterEvent\": \"custom.exercise_interaction\", \"data\": {\"interactionType\": 3, \"questionType\": 1, \"questionId\": \"2_FruitSalesDfCreation\", \"learnToolsVersion\": \"0.3.5\", \"valueTowardsCompletion\": 0.0, \"failureMessage\": \"\", \"exceptionClass\": \"\", \"trace\": \"\", \"outcomeType\": 4}}, \"*\")"
      ],
      "text/plain": [
       "<IPython.core.display.Javascript object>"
      ]
     },
     "metadata": {},
     "output_type": "display_data"
    },
    {
     "data": {
      "text/markdown": [
       "<span style=\"color:#33cc99\">Solution:</span> \n",
       "```python\n",
       "fruit_sales = pd.DataFrame([[35, 21], [41, 34]], columns=['Apples', 'Bananas'],\n",
       "                index=['2017 Sales', '2018 Sales'])\n",
       "```"
      ],
      "text/plain": [
       "Solution: \n",
       "```python\n",
       "fruit_sales = pd.DataFrame([[35, 21], [41, 34]], columns=['Apples', 'Bananas'],\n",
       "                index=['2017 Sales', '2018 Sales'])\n",
       "```"
      ]
     },
     "metadata": {},
     "output_type": "display_data"
    }
   ],
   "source": [
    "q2.hint()\n",
    "q2.solution()"
   ]
  },
  {
   "cell_type": "markdown",
   "id": "756b7066",
   "metadata": {
    "papermill": {
     "duration": 0.005964,
     "end_time": "2025-09-21T20:58:35.301422",
     "exception": false,
     "start_time": "2025-09-21T20:58:35.295458",
     "status": "completed"
    },
    "tags": []
   },
   "source": [
    "## 3.\n",
    "\n",
    "Create a variable `ingredients` with a Series that looks like:\n",
    "\n",
    "```\n",
    "Flour     4 cups\n",
    "Milk       1 cup\n",
    "Eggs     2 large\n",
    "Spam       1 can\n",
    "Name: Dinner, dtype: object\n",
    "```"
   ]
  },
  {
   "cell_type": "code",
   "execution_count": 6,
   "id": "ffbff094",
   "metadata": {
    "execution": {
     "iopub.execute_input": "2025-09-21T20:58:35.314871Z",
     "iopub.status.busy": "2025-09-21T20:58:35.314375Z",
     "iopub.status.idle": "2025-09-21T20:58:35.326856Z",
     "shell.execute_reply": "2025-09-21T20:58:35.325709Z"
    },
    "papermill": {
     "duration": 0.021256,
     "end_time": "2025-09-21T20:58:35.328681",
     "exception": false,
     "start_time": "2025-09-21T20:58:35.307425",
     "status": "completed"
    },
    "tags": []
   },
   "outputs": [
    {
     "data": {
      "application/javascript": [
       "parent.postMessage({\"jupyterEvent\": \"custom.exercise_interaction\", \"data\": {\"outcomeType\": 1, \"valueTowardsCompletion\": 0.16666666666666666, \"interactionType\": 1, \"questionType\": 2, \"questionId\": \"3_RecipeSeriesCreation\", \"learnToolsVersion\": \"0.3.5\", \"failureMessage\": \"\", \"exceptionClass\": \"\", \"trace\": \"\"}}, \"*\")"
      ],
      "text/plain": [
       "<IPython.core.display.Javascript object>"
      ]
     },
     "metadata": {},
     "output_type": "display_data"
    },
    {
     "data": {
      "text/markdown": [
       "<span style=\"color:#33cc33\">Correct</span>"
      ],
      "text/plain": [
       "Correct"
      ]
     },
     "metadata": {},
     "output_type": "display_data"
    },
    {
     "data": {
      "text/plain": [
       "Flour     4 cups\n",
       "Milk       1 cup\n",
       "Eggs     2 large\n",
       "Spam       1 can\n",
       "Name: Dinner, dtype: object"
      ]
     },
     "execution_count": 6,
     "metadata": {},
     "output_type": "execute_result"
    }
   ],
   "source": [
    "ingredients = pd.Series(['4 cups', '1 cup', '2 large', '1 can'],\n",
    "                       index = ['Flour', 'Milk', 'Eggs', 'Spam'],\n",
    "                       name = 'Dinner')\n",
    "\n",
    "# Check your answer\n",
    "q3.check()\n",
    "ingredients"
   ]
  },
  {
   "cell_type": "code",
   "execution_count": 7,
   "id": "7942b64f",
   "metadata": {
    "execution": {
     "iopub.execute_input": "2025-09-21T20:58:35.343362Z",
     "iopub.status.busy": "2025-09-21T20:58:35.343027Z",
     "iopub.status.idle": "2025-09-21T20:58:35.354920Z",
     "shell.execute_reply": "2025-09-21T20:58:35.353872Z"
    },
    "papermill": {
     "duration": 0.021213,
     "end_time": "2025-09-21T20:58:35.356674",
     "exception": false,
     "start_time": "2025-09-21T20:58:35.335461",
     "status": "completed"
    },
    "tags": []
   },
   "outputs": [
    {
     "data": {
      "application/javascript": [
       "parent.postMessage({\"jupyterEvent\": \"custom.exercise_interaction\", \"data\": {\"interactionType\": 2, \"questionType\": 2, \"questionId\": \"3_RecipeSeriesCreation\", \"learnToolsVersion\": \"0.3.5\", \"valueTowardsCompletion\": 0.0, \"failureMessage\": \"\", \"exceptionClass\": \"\", \"trace\": \"\", \"outcomeType\": 4}}, \"*\")"
      ],
      "text/plain": [
       "<IPython.core.display.Javascript object>"
      ]
     },
     "metadata": {},
     "output_type": "display_data"
    },
    {
     "data": {
      "text/markdown": [
       "<span style=\"color:#3366cc\">Hint:</span> Note that the Series must be named `\"Dinner\"`. Use the `name` keyword-arg when creating your series."
      ],
      "text/plain": [
       "Hint: Note that the Series must be named `\"Dinner\"`. Use the `name` keyword-arg when creating your series."
      ]
     },
     "metadata": {},
     "output_type": "display_data"
    },
    {
     "data": {
      "application/javascript": [
       "parent.postMessage({\"jupyterEvent\": \"custom.exercise_interaction\", \"data\": {\"interactionType\": 3, \"questionType\": 2, \"questionId\": \"3_RecipeSeriesCreation\", \"learnToolsVersion\": \"0.3.5\", \"valueTowardsCompletion\": 0.0, \"failureMessage\": \"\", \"exceptionClass\": \"\", \"trace\": \"\", \"outcomeType\": 4}}, \"*\")"
      ],
      "text/plain": [
       "<IPython.core.display.Javascript object>"
      ]
     },
     "metadata": {},
     "output_type": "display_data"
    },
    {
     "data": {
      "text/markdown": [
       "<span style=\"color:#33cc99\">Solution:</span> \n",
       "```python\n",
       "quantities = ['4 cups', '1 cup', '2 large', '1 can']\n",
       "items = ['Flour', 'Milk', 'Eggs', 'Spam']\n",
       "recipe = pd.Series(quantities, index=items, name='Dinner')\n",
       "```"
      ],
      "text/plain": [
       "Solution: \n",
       "```python\n",
       "quantities = ['4 cups', '1 cup', '2 large', '1 can']\n",
       "items = ['Flour', 'Milk', 'Eggs', 'Spam']\n",
       "recipe = pd.Series(quantities, index=items, name='Dinner')\n",
       "```"
      ]
     },
     "metadata": {},
     "output_type": "display_data"
    }
   ],
   "source": [
    "q3.hint()\n",
    "q3.solution()"
   ]
  },
  {
   "cell_type": "markdown",
   "id": "47441bde",
   "metadata": {
    "papermill": {
     "duration": 0.007244,
     "end_time": "2025-09-21T20:58:35.371092",
     "exception": false,
     "start_time": "2025-09-21T20:58:35.363848",
     "status": "completed"
    },
    "tags": []
   },
   "source": [
    "## 4.\n",
    "\n",
    "Read the following csv dataset of wine reviews into a DataFrame called `reviews`:\n",
    "\n",
    "![](https://storage.googleapis.com/kaggle-media/learn/images/74RCZtU.png)\n",
    "\n",
    "The filepath to the csv file is `../input/wine-reviews/winemag-data_first150k.csv`. The first few lines look like:\n",
    "\n",
    "```\n",
    ",country,description,designation,points,price,province,region_1,region_2,variety,winery\n",
    "0,US,\"This tremendous 100% varietal wine[...]\",Martha's Vineyard,96,235.0,California,Napa Valley,Napa,Cabernet Sauvignon,Heitz\n",
    "1,Spain,\"Ripe aromas of fig, blackberry and[...]\",Carodorum Selección Especial Reserva,96,110.0,Northern Spain,Toro,,Tinta de Toro,Bodega Carmen Rodríguez\n",
    "```"
   ]
  },
  {
   "cell_type": "code",
   "execution_count": 8,
   "id": "0d553797",
   "metadata": {
    "execution": {
     "iopub.execute_input": "2025-09-21T20:58:35.387068Z",
     "iopub.status.busy": "2025-09-21T20:58:35.386688Z",
     "iopub.status.idle": "2025-09-21T20:58:36.472446Z",
     "shell.execute_reply": "2025-09-21T20:58:36.471370Z"
    },
    "papermill": {
     "duration": 1.095936,
     "end_time": "2025-09-21T20:58:36.474407",
     "exception": false,
     "start_time": "2025-09-21T20:58:35.378471",
     "status": "completed"
    },
    "tags": []
   },
   "outputs": [
    {
     "data": {
      "application/javascript": [
       "parent.postMessage({\"jupyterEvent\": \"custom.exercise_interaction\", \"data\": {\"outcomeType\": 1, \"valueTowardsCompletion\": 0.16666666666666666, \"interactionType\": 1, \"questionType\": 1, \"questionId\": \"4_ReadWineCsv\", \"learnToolsVersion\": \"0.3.5\", \"failureMessage\": \"\", \"exceptionClass\": \"\", \"trace\": \"\"}}, \"*\")"
      ],
      "text/plain": [
       "<IPython.core.display.Javascript object>"
      ]
     },
     "metadata": {},
     "output_type": "display_data"
    },
    {
     "data": {
      "text/markdown": [
       "<span style=\"color:#33cc33\">Correct</span>"
      ],
      "text/plain": [
       "Correct"
      ]
     },
     "metadata": {},
     "output_type": "display_data"
    },
    {
     "data": {
      "text/html": [
       "<div>\n",
       "<style scoped>\n",
       "    .dataframe tbody tr th:only-of-type {\n",
       "        vertical-align: middle;\n",
       "    }\n",
       "\n",
       "    .dataframe tbody tr th {\n",
       "        vertical-align: top;\n",
       "    }\n",
       "\n",
       "    .dataframe thead th {\n",
       "        text-align: right;\n",
       "    }\n",
       "</style>\n",
       "<table border=\"1\" class=\"dataframe\">\n",
       "  <thead>\n",
       "    <tr style=\"text-align: right;\">\n",
       "      <th></th>\n",
       "      <th>country</th>\n",
       "      <th>description</th>\n",
       "      <th>designation</th>\n",
       "      <th>points</th>\n",
       "      <th>price</th>\n",
       "      <th>province</th>\n",
       "      <th>region_1</th>\n",
       "      <th>region_2</th>\n",
       "      <th>variety</th>\n",
       "      <th>winery</th>\n",
       "    </tr>\n",
       "  </thead>\n",
       "  <tbody>\n",
       "    <tr>\n",
       "      <th>0</th>\n",
       "      <td>US</td>\n",
       "      <td>This tremendous 100% varietal wine hails from ...</td>\n",
       "      <td>Martha's Vineyard</td>\n",
       "      <td>96</td>\n",
       "      <td>235.0</td>\n",
       "      <td>California</td>\n",
       "      <td>Napa Valley</td>\n",
       "      <td>Napa</td>\n",
       "      <td>Cabernet Sauvignon</td>\n",
       "      <td>Heitz</td>\n",
       "    </tr>\n",
       "    <tr>\n",
       "      <th>1</th>\n",
       "      <td>Spain</td>\n",
       "      <td>Ripe aromas of fig, blackberry and cassis are ...</td>\n",
       "      <td>Carodorum Selección Especial Reserva</td>\n",
       "      <td>96</td>\n",
       "      <td>110.0</td>\n",
       "      <td>Northern Spain</td>\n",
       "      <td>Toro</td>\n",
       "      <td>NaN</td>\n",
       "      <td>Tinta de Toro</td>\n",
       "      <td>Bodega Carmen Rodríguez</td>\n",
       "    </tr>\n",
       "    <tr>\n",
       "      <th>...</th>\n",
       "      <td>...</td>\n",
       "      <td>...</td>\n",
       "      <td>...</td>\n",
       "      <td>...</td>\n",
       "      <td>...</td>\n",
       "      <td>...</td>\n",
       "      <td>...</td>\n",
       "      <td>...</td>\n",
       "      <td>...</td>\n",
       "      <td>...</td>\n",
       "    </tr>\n",
       "    <tr>\n",
       "      <th>150928</th>\n",
       "      <td>France</td>\n",
       "      <td>A perfect salmon shade, with scents of peaches...</td>\n",
       "      <td>Grand Brut Rosé</td>\n",
       "      <td>90</td>\n",
       "      <td>52.0</td>\n",
       "      <td>Champagne</td>\n",
       "      <td>Champagne</td>\n",
       "      <td>NaN</td>\n",
       "      <td>Champagne Blend</td>\n",
       "      <td>Gosset</td>\n",
       "    </tr>\n",
       "    <tr>\n",
       "      <th>150929</th>\n",
       "      <td>Italy</td>\n",
       "      <td>More Pinot Grigios should taste like this. A r...</td>\n",
       "      <td>NaN</td>\n",
       "      <td>90</td>\n",
       "      <td>15.0</td>\n",
       "      <td>Northeastern Italy</td>\n",
       "      <td>Alto Adige</td>\n",
       "      <td>NaN</td>\n",
       "      <td>Pinot Grigio</td>\n",
       "      <td>Alois Lageder</td>\n",
       "    </tr>\n",
       "  </tbody>\n",
       "</table>\n",
       "<p>150930 rows × 10 columns</p>\n",
       "</div>"
      ],
      "text/plain": [
       "       country                                        description  \\\n",
       "0           US  This tremendous 100% varietal wine hails from ...   \n",
       "1        Spain  Ripe aromas of fig, blackberry and cassis are ...   \n",
       "...        ...                                                ...   \n",
       "150928  France  A perfect salmon shade, with scents of peaches...   \n",
       "150929   Italy  More Pinot Grigios should taste like this. A r...   \n",
       "\n",
       "                                 designation  points  price  \\\n",
       "0                          Martha's Vineyard      96  235.0   \n",
       "1       Carodorum Selección Especial Reserva      96  110.0   \n",
       "...                                      ...     ...    ...   \n",
       "150928                       Grand Brut Rosé      90   52.0   \n",
       "150929                                   NaN      90   15.0   \n",
       "\n",
       "                  province     region_1 region_2             variety  \\\n",
       "0               California  Napa Valley     Napa  Cabernet Sauvignon   \n",
       "1           Northern Spain         Toro      NaN       Tinta de Toro   \n",
       "...                    ...          ...      ...                 ...   \n",
       "150928           Champagne    Champagne      NaN     Champagne Blend   \n",
       "150929  Northeastern Italy   Alto Adige      NaN        Pinot Grigio   \n",
       "\n",
       "                         winery  \n",
       "0                         Heitz  \n",
       "1       Bodega Carmen Rodríguez  \n",
       "...                         ...  \n",
       "150928                   Gosset  \n",
       "150929            Alois Lageder  \n",
       "\n",
       "[150930 rows x 10 columns]"
      ]
     },
     "execution_count": 8,
     "metadata": {},
     "output_type": "execute_result"
    }
   ],
   "source": [
    "reviews = pd.read_csv('../input/wine-reviews/winemag-data_first150k.csv',\n",
    "                     index_col = 0)\n",
    "\n",
    "# Check your answer\n",
    "q4.check()\n",
    "reviews"
   ]
  },
  {
   "cell_type": "code",
   "execution_count": 9,
   "id": "e310bb57",
   "metadata": {
    "execution": {
     "iopub.execute_input": "2025-09-21T20:58:36.492414Z",
     "iopub.status.busy": "2025-09-21T20:58:36.492103Z",
     "iopub.status.idle": "2025-09-21T20:58:36.509262Z",
     "shell.execute_reply": "2025-09-21T20:58:36.507706Z"
    },
    "papermill": {
     "duration": 0.028772,
     "end_time": "2025-09-21T20:58:36.511164",
     "exception": false,
     "start_time": "2025-09-21T20:58:36.482392",
     "status": "completed"
    },
    "tags": []
   },
   "outputs": [
    {
     "name": "stdout",
     "output_type": "stream",
     "text": [
      "(150930, 10)\n"
     ]
    },
    {
     "data": {
      "text/html": [
       "<div>\n",
       "<style scoped>\n",
       "    .dataframe tbody tr th:only-of-type {\n",
       "        vertical-align: middle;\n",
       "    }\n",
       "\n",
       "    .dataframe tbody tr th {\n",
       "        vertical-align: top;\n",
       "    }\n",
       "\n",
       "    .dataframe thead th {\n",
       "        text-align: right;\n",
       "    }\n",
       "</style>\n",
       "<table border=\"1\" class=\"dataframe\">\n",
       "  <thead>\n",
       "    <tr style=\"text-align: right;\">\n",
       "      <th></th>\n",
       "      <th>country</th>\n",
       "      <th>description</th>\n",
       "      <th>designation</th>\n",
       "      <th>points</th>\n",
       "      <th>price</th>\n",
       "      <th>province</th>\n",
       "      <th>region_1</th>\n",
       "      <th>region_2</th>\n",
       "      <th>variety</th>\n",
       "      <th>winery</th>\n",
       "    </tr>\n",
       "  </thead>\n",
       "  <tbody>\n",
       "    <tr>\n",
       "      <th>0</th>\n",
       "      <td>US</td>\n",
       "      <td>This tremendous 100% varietal wine hails from ...</td>\n",
       "      <td>Martha's Vineyard</td>\n",
       "      <td>96</td>\n",
       "      <td>235.0</td>\n",
       "      <td>California</td>\n",
       "      <td>Napa Valley</td>\n",
       "      <td>Napa</td>\n",
       "      <td>Cabernet Sauvignon</td>\n",
       "      <td>Heitz</td>\n",
       "    </tr>\n",
       "    <tr>\n",
       "      <th>1</th>\n",
       "      <td>Spain</td>\n",
       "      <td>Ripe aromas of fig, blackberry and cassis are ...</td>\n",
       "      <td>Carodorum Selección Especial Reserva</td>\n",
       "      <td>96</td>\n",
       "      <td>110.0</td>\n",
       "      <td>Northern Spain</td>\n",
       "      <td>Toro</td>\n",
       "      <td>NaN</td>\n",
       "      <td>Tinta de Toro</td>\n",
       "      <td>Bodega Carmen Rodríguez</td>\n",
       "    </tr>\n",
       "    <tr>\n",
       "      <th>2</th>\n",
       "      <td>US</td>\n",
       "      <td>Mac Watson honors the memory of a wine once ma...</td>\n",
       "      <td>Special Selected Late Harvest</td>\n",
       "      <td>96</td>\n",
       "      <td>90.0</td>\n",
       "      <td>California</td>\n",
       "      <td>Knights Valley</td>\n",
       "      <td>Sonoma</td>\n",
       "      <td>Sauvignon Blanc</td>\n",
       "      <td>Macauley</td>\n",
       "    </tr>\n",
       "    <tr>\n",
       "      <th>3</th>\n",
       "      <td>US</td>\n",
       "      <td>This spent 20 months in 30% new French oak, an...</td>\n",
       "      <td>Reserve</td>\n",
       "      <td>96</td>\n",
       "      <td>65.0</td>\n",
       "      <td>Oregon</td>\n",
       "      <td>Willamette Valley</td>\n",
       "      <td>Willamette Valley</td>\n",
       "      <td>Pinot Noir</td>\n",
       "      <td>Ponzi</td>\n",
       "    </tr>\n",
       "    <tr>\n",
       "      <th>4</th>\n",
       "      <td>France</td>\n",
       "      <td>This is the top wine from La Bégude, named aft...</td>\n",
       "      <td>La Brûlade</td>\n",
       "      <td>95</td>\n",
       "      <td>66.0</td>\n",
       "      <td>Provence</td>\n",
       "      <td>Bandol</td>\n",
       "      <td>NaN</td>\n",
       "      <td>Provence red blend</td>\n",
       "      <td>Domaine de la Bégude</td>\n",
       "    </tr>\n",
       "  </tbody>\n",
       "</table>\n",
       "</div>"
      ],
      "text/plain": [
       "  country                                        description  \\\n",
       "0      US  This tremendous 100% varietal wine hails from ...   \n",
       "1   Spain  Ripe aromas of fig, blackberry and cassis are ...   \n",
       "2      US  Mac Watson honors the memory of a wine once ma...   \n",
       "3      US  This spent 20 months in 30% new French oak, an...   \n",
       "4  France  This is the top wine from La Bégude, named aft...   \n",
       "\n",
       "                            designation  points  price        province  \\\n",
       "0                     Martha's Vineyard      96  235.0      California   \n",
       "1  Carodorum Selección Especial Reserva      96  110.0  Northern Spain   \n",
       "2         Special Selected Late Harvest      96   90.0      California   \n",
       "3                               Reserve      96   65.0          Oregon   \n",
       "4                            La Brûlade      95   66.0        Provence   \n",
       "\n",
       "            region_1           region_2             variety  \\\n",
       "0        Napa Valley               Napa  Cabernet Sauvignon   \n",
       "1               Toro                NaN       Tinta de Toro   \n",
       "2     Knights Valley             Sonoma     Sauvignon Blanc   \n",
       "3  Willamette Valley  Willamette Valley          Pinot Noir   \n",
       "4             Bandol                NaN  Provence red blend   \n",
       "\n",
       "                    winery  \n",
       "0                    Heitz  \n",
       "1  Bodega Carmen Rodríguez  \n",
       "2                 Macauley  \n",
       "3                    Ponzi  \n",
       "4     Domaine de la Bégude  "
      ]
     },
     "execution_count": 9,
     "metadata": {},
     "output_type": "execute_result"
    }
   ],
   "source": [
    "print(reviews.shape)\n",
    "reviews.head()"
   ]
  },
  {
   "cell_type": "code",
   "execution_count": 10,
   "id": "96cdd89f",
   "metadata": {
    "execution": {
     "iopub.execute_input": "2025-09-21T20:58:36.529465Z",
     "iopub.status.busy": "2025-09-21T20:58:36.528656Z",
     "iopub.status.idle": "2025-09-21T20:58:36.537330Z",
     "shell.execute_reply": "2025-09-21T20:58:36.536147Z"
    },
    "papermill": {
     "duration": 0.019752,
     "end_time": "2025-09-21T20:58:36.539389",
     "exception": false,
     "start_time": "2025-09-21T20:58:36.519637",
     "status": "completed"
    },
    "tags": []
   },
   "outputs": [
    {
     "data": {
      "application/javascript": [
       "parent.postMessage({\"jupyterEvent\": \"custom.exercise_interaction\", \"data\": {\"interactionType\": 2, \"questionType\": 1, \"questionId\": \"4_ReadWineCsv\", \"learnToolsVersion\": \"0.3.5\", \"valueTowardsCompletion\": 0.0, \"failureMessage\": \"\", \"exceptionClass\": \"\", \"trace\": \"\", \"outcomeType\": 4}}, \"*\")"
      ],
      "text/plain": [
       "<IPython.core.display.Javascript object>"
      ]
     },
     "metadata": {},
     "output_type": "display_data"
    },
    {
     "data": {
      "text/markdown": [
       "<span style=\"color:#3366cc\">Hint:</span> Note that the csv file begins with an unnamed column of increasing integers. We want this to be used as the index. Check out the description of the `index_col` keyword argument in [the docs for `read_csv`](https://pandas.pydata.org/pandas-docs/stable/generated/pandas.read_csv.html)."
      ],
      "text/plain": [
       "Hint: Note that the csv file begins with an unnamed column of increasing integers. We want this to be used as the index. Check out the description of the `index_col` keyword argument in [the docs for `read_csv`](https://pandas.pydata.org/pandas-docs/stable/generated/pandas.read_csv.html)."
      ]
     },
     "metadata": {},
     "output_type": "display_data"
    }
   ],
   "source": [
    "q4.hint()\n",
    "#q4.solution()"
   ]
  },
  {
   "cell_type": "markdown",
   "id": "1cc00dd6",
   "metadata": {
    "papermill": {
     "duration": 0.008161,
     "end_time": "2025-09-21T20:58:36.556338",
     "exception": false,
     "start_time": "2025-09-21T20:58:36.548177",
     "status": "completed"
    },
    "tags": []
   },
   "source": [
    "## 5.\n",
    "\n",
    "Run the cell below to create and display a DataFrame called `animals`:"
   ]
  },
  {
   "cell_type": "code",
   "execution_count": 11,
   "id": "9689fb54",
   "metadata": {
    "execution": {
     "iopub.execute_input": "2025-09-21T20:58:36.574820Z",
     "iopub.status.busy": "2025-09-21T20:58:36.574383Z",
     "iopub.status.idle": "2025-09-21T20:58:36.584690Z",
     "shell.execute_reply": "2025-09-21T20:58:36.583708Z"
    },
    "papermill": {
     "duration": 0.021839,
     "end_time": "2025-09-21T20:58:36.586691",
     "exception": false,
     "start_time": "2025-09-21T20:58:36.564852",
     "status": "completed"
    },
    "tags": []
   },
   "outputs": [
    {
     "data": {
      "text/html": [
       "<div>\n",
       "<style scoped>\n",
       "    .dataframe tbody tr th:only-of-type {\n",
       "        vertical-align: middle;\n",
       "    }\n",
       "\n",
       "    .dataframe tbody tr th {\n",
       "        vertical-align: top;\n",
       "    }\n",
       "\n",
       "    .dataframe thead th {\n",
       "        text-align: right;\n",
       "    }\n",
       "</style>\n",
       "<table border=\"1\" class=\"dataframe\">\n",
       "  <thead>\n",
       "    <tr style=\"text-align: right;\">\n",
       "      <th></th>\n",
       "      <th>Cows</th>\n",
       "      <th>Goats</th>\n",
       "    </tr>\n",
       "  </thead>\n",
       "  <tbody>\n",
       "    <tr>\n",
       "      <th>Year 1</th>\n",
       "      <td>12</td>\n",
       "      <td>22</td>\n",
       "    </tr>\n",
       "    <tr>\n",
       "      <th>Year 2</th>\n",
       "      <td>20</td>\n",
       "      <td>19</td>\n",
       "    </tr>\n",
       "  </tbody>\n",
       "</table>\n",
       "</div>"
      ],
      "text/plain": [
       "        Cows  Goats\n",
       "Year 1    12     22\n",
       "Year 2    20     19"
      ]
     },
     "execution_count": 11,
     "metadata": {},
     "output_type": "execute_result"
    }
   ],
   "source": [
    "animals = pd.DataFrame({'Cows': [12, 20], 'Goats': [22, 19]}, index=['Year 1', 'Year 2'])\n",
    "animals"
   ]
  },
  {
   "cell_type": "markdown",
   "id": "5bf7c493",
   "metadata": {
    "papermill": {
     "duration": 0.010502,
     "end_time": "2025-09-21T20:58:36.608972",
     "exception": false,
     "start_time": "2025-09-21T20:58:36.598470",
     "status": "completed"
    },
    "tags": []
   },
   "source": [
    "In the cell below, write code to save this DataFrame to disk as a csv file with the name `cows_and_goats.csv`."
   ]
  },
  {
   "cell_type": "code",
   "execution_count": 12,
   "id": "125f879b",
   "metadata": {
    "execution": {
     "iopub.execute_input": "2025-09-21T20:58:36.632369Z",
     "iopub.status.busy": "2025-09-21T20:58:36.631908Z",
     "iopub.status.idle": "2025-09-21T20:58:36.654279Z",
     "shell.execute_reply": "2025-09-21T20:58:36.652574Z"
    },
    "papermill": {
     "duration": 0.039152,
     "end_time": "2025-09-21T20:58:36.656565",
     "exception": false,
     "start_time": "2025-09-21T20:58:36.617413",
     "status": "completed"
    },
    "tags": []
   },
   "outputs": [
    {
     "data": {
      "application/javascript": [
       "parent.postMessage({\"jupyterEvent\": \"custom.exercise_interaction\", \"data\": {\"outcomeType\": 1, \"valueTowardsCompletion\": 0.16666666666666666, \"interactionType\": 1, \"questionType\": 2, \"questionId\": \"5_SaveAnimalsCsv\", \"learnToolsVersion\": \"0.3.5\", \"failureMessage\": \"\", \"exceptionClass\": \"\", \"trace\": \"\"}}, \"*\")"
      ],
      "text/plain": [
       "<IPython.core.display.Javascript object>"
      ]
     },
     "metadata": {},
     "output_type": "display_data"
    },
    {
     "data": {
      "text/markdown": [
       "<span style=\"color:#33cc33\">Correct</span>"
      ],
      "text/plain": [
       "Correct"
      ]
     },
     "metadata": {},
     "output_type": "display_data"
    }
   ],
   "source": [
    "# Your code goes here\n",
    "animals.to_csv('cows_and_goats.csv')\n",
    "# Check your answer\n",
    "q5.check()"
   ]
  },
  {
   "cell_type": "code",
   "execution_count": 13,
   "id": "26cf3158",
   "metadata": {
    "execution": {
     "iopub.execute_input": "2025-09-21T20:58:36.675565Z",
     "iopub.status.busy": "2025-09-21T20:58:36.675131Z",
     "iopub.status.idle": "2025-09-21T20:58:36.688160Z",
     "shell.execute_reply": "2025-09-21T20:58:36.686838Z"
    },
    "papermill": {
     "duration": 0.024912,
     "end_time": "2025-09-21T20:58:36.690187",
     "exception": false,
     "start_time": "2025-09-21T20:58:36.665275",
     "status": "completed"
    },
    "tags": []
   },
   "outputs": [
    {
     "data": {
      "application/javascript": [
       "parent.postMessage({\"jupyterEvent\": \"custom.exercise_interaction\", \"data\": {\"interactionType\": 2, \"questionType\": 2, \"questionId\": \"5_SaveAnimalsCsv\", \"learnToolsVersion\": \"0.3.5\", \"valueTowardsCompletion\": 0.0, \"failureMessage\": \"\", \"exceptionClass\": \"\", \"trace\": \"\", \"outcomeType\": 4}}, \"*\")"
      ],
      "text/plain": [
       "<IPython.core.display.Javascript object>"
      ]
     },
     "metadata": {},
     "output_type": "display_data"
    },
    {
     "data": {
      "text/markdown": [
       "<span style=\"color:#3366cc\">Hint:</span> Use [`to_csv`](https://pandas.pydata.org/pandas-docs/stable/generated/pandas.DataFrame.to_csv.html) to save a DataFrame to a CSV file."
      ],
      "text/plain": [
       "Hint: Use [`to_csv`](https://pandas.pydata.org/pandas-docs/stable/generated/pandas.DataFrame.to_csv.html) to save a DataFrame to a CSV file."
      ]
     },
     "metadata": {},
     "output_type": "display_data"
    },
    {
     "data": {
      "application/javascript": [
       "parent.postMessage({\"jupyterEvent\": \"custom.exercise_interaction\", \"data\": {\"interactionType\": 3, \"questionType\": 2, \"questionId\": \"5_SaveAnimalsCsv\", \"learnToolsVersion\": \"0.3.5\", \"valueTowardsCompletion\": 0.0, \"failureMessage\": \"\", \"exceptionClass\": \"\", \"trace\": \"\", \"outcomeType\": 4}}, \"*\")"
      ],
      "text/plain": [
       "<IPython.core.display.Javascript object>"
      ]
     },
     "metadata": {},
     "output_type": "display_data"
    },
    {
     "data": {
      "text/markdown": [
       "<span style=\"color:#33cc99\">Solution:</span> \n",
       "```python\n",
       "animals.to_csv(\"cows_and_goats.csv\")\n",
       "```"
      ],
      "text/plain": [
       "Solution: \n",
       "```python\n",
       "animals.to_csv(\"cows_and_goats.csv\")\n",
       "```"
      ]
     },
     "metadata": {},
     "output_type": "display_data"
    }
   ],
   "source": [
    "q5.hint()\n",
    "q5.solution()"
   ]
  },
  {
   "cell_type": "markdown",
   "id": "71a83941",
   "metadata": {
    "papermill": {
     "duration": 0.009305,
     "end_time": "2025-09-21T20:58:36.710887",
     "exception": false,
     "start_time": "2025-09-21T20:58:36.701582",
     "status": "completed"
    },
    "tags": []
   },
   "source": [
    "# Keep going\n",
    "\n",
    "Move on to learn about **[indexing, selecting and assigning](https://www.kaggle.com/residentmario/indexing-selecting-assigning)**."
   ]
  },
  {
   "cell_type": "markdown",
   "id": "b9fe7947",
   "metadata": {
    "papermill": {
     "duration": 0.008724,
     "end_time": "2025-09-21T20:58:36.728120",
     "exception": false,
     "start_time": "2025-09-21T20:58:36.719396",
     "status": "completed"
    },
    "tags": []
   },
   "source": [
    "---\n",
    "\n",
    "\n",
    "\n",
    "\n",
    "*Have questions or comments? Visit the [course discussion forum](https://www.kaggle.com/learn/pandas/discussion) to chat with other learners.*"
   ]
  }
 ],
 "metadata": {
  "kaggle": {
   "accelerator": "none",
   "dataSources": [
    {
     "datasetId": 655,
     "sourceId": 1252,
     "sourceType": "datasetVersion"
    },
    {
     "datasetId": 2321,
     "sourceId": 3919,
     "sourceType": "datasetVersion"
    },
    {
     "datasetId": 2894,
     "sourceId": 4877,
     "sourceType": "datasetVersion"
    },
    {
     "datasetId": 3491,
     "sourceId": 5624,
     "sourceType": "datasetVersion"
    },
    {
     "datasetId": 1442,
     "sourceId": 8172,
     "sourceType": "datasetVersion"
    },
    {
     "datasetId": 9366,
     "sourceId": 13206,
     "sourceType": "datasetVersion"
    },
    {
     "datasetId": 179555,
     "sourceId": 403916,
     "sourceType": "datasetVersion"
    },
    {
     "datasetId": 4549,
     "sourceId": 466349,
     "sourceType": "datasetVersion"
    },
    {
     "datasetId": 2478,
     "sourceId": 1151655,
     "sourceType": "datasetVersion"
    },
    {
     "datasetId": 10128,
     "sourceId": 5438389,
     "sourceType": "datasetVersion"
    }
   ],
   "isGpuEnabled": false,
   "isInternetEnabled": false,
   "language": "python",
   "sourceType": "notebook"
  },
  "kernelspec": {
   "display_name": "Python 3",
   "language": "python",
   "name": "python3"
  },
  "language_info": {
   "codemirror_mode": {
    "name": "ipython",
    "version": 3
   },
   "file_extension": ".py",
   "mimetype": "text/x-python",
   "name": "python",
   "nbconvert_exporter": "python",
   "pygments_lexer": "ipython3",
   "version": "3.11.13"
  },
  "papermill": {
   "default_parameters": {},
   "duration": 13.285019,
   "end_time": "2025-09-21T20:58:37.257857",
   "environment_variables": {},
   "exception": null,
   "input_path": "__notebook__.ipynb",
   "output_path": "__notebook__.ipynb",
   "parameters": {},
   "start_time": "2025-09-21T20:58:23.972838",
   "version": "2.6.0"
  }
 },
 "nbformat": 4,
 "nbformat_minor": 5
}
